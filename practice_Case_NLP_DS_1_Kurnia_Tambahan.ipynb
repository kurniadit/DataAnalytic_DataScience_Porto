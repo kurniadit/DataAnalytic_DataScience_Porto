{
 "cells": [
  {
   "cell_type": "markdown",
   "metadata": {
    "id": "v9N6VGVxPhPG"
   },
   "source": [
    "## Library"
   ]
  },
  {
   "cell_type": "code",
   "execution_count": null,
   "metadata": {
    "ExecuteTime": {
     "end_time": "2021-07-22T09:43:50.650062Z",
     "start_time": "2021-07-22T09:43:48.758383Z"
    },
    "colab": {
     "base_uri": "https://localhost:8080/"
    },
    "id": "j6Aojj2FPhPM",
    "outputId": "6642a508-6fec-4851-e355-72f1e14d3f7e"
   },
   "outputs": [
    {
     "name": "stdout",
     "output_type": "stream",
     "text": [
      "[nltk_data] Downloading package stopwords to /root/nltk_data...\n",
      "[nltk_data]   Package stopwords is already up-to-date!\n"
     ]
    }
   ],
   "source": [
    "import pandas as pd\n",
    "import re\n",
    "from string import punctuation\n",
    "\n",
    "import nltk\n",
    "nltk.download('stopwords')\n",
    "from nltk.corpus import stopwords\n",
    "\n",
    "from sklearn.feature_extraction.text import CountVectorizer\n",
    "from sklearn.feature_extraction.text import TfidfVectorizer\n",
    "from Sastrawi.Stemmer.StemmerFactory import StemmerFactory\n",
    "\n",
    "stop_words = stopwords.words('indonesian')\n",
    "factory = StemmerFactory()\n",
    "stemmer = factory.create_stemmer()"
   ]
  },
  {
   "cell_type": "markdown",
   "metadata": {
    "id": "i1lYvqqRPhPQ"
   },
   "source": [
    "## 1. Please find out dataset contained free text (twitter) data in Indonesia and do text preprocessing steps including case folding, non alphanumeric characters, stopword removing (minimal)"
   ]
  },
  {
   "cell_type": "markdown",
   "metadata": {
    "id": "P0POxFC_PhPR"
   },
   "source": [
    "### a. Dataset\n",
    "Data set yang dipakai adalah data set twitter mengenai opini film"
   ]
  },
  {
   "cell_type": "code",
   "execution_count": null,
   "metadata": {
    "ExecuteTime": {
     "end_time": "2021-07-22T09:43:50.666066Z",
     "start_time": "2021-07-22T09:43:50.652062Z"
    },
    "colab": {
     "base_uri": "https://localhost:8080/",
     "height": 204
    },
    "id": "zdxGT5Z5PhPS",
    "outputId": "a55cf264-a7f4-4faa-eef7-b6367c2ad20b"
   },
   "outputs": [
    {
     "data": {
      "text/html": [
       "<div>\n",
       "<style scoped>\n",
       "    .dataframe tbody tr th:only-of-type {\n",
       "        vertical-align: middle;\n",
       "    }\n",
       "\n",
       "    .dataframe tbody tr th {\n",
       "        vertical-align: top;\n",
       "    }\n",
       "\n",
       "    .dataframe thead th {\n",
       "        text-align: right;\n",
       "    }\n",
       "</style>\n",
       "<table border=\"1\" class=\"dataframe\">\n",
       "  <thead>\n",
       "    <tr style=\"text-align: right;\">\n",
       "      <th></th>\n",
       "      <th>Id</th>\n",
       "      <th>Sentiment</th>\n",
       "      <th>Pasangan Calon</th>\n",
       "      <th>Text Tweet</th>\n",
       "    </tr>\n",
       "  </thead>\n",
       "  <tbody>\n",
       "    <tr>\n",
       "      <th>0</th>\n",
       "      <td>1</td>\n",
       "      <td>negative</td>\n",
       "      <td>Agus-Sylvi</td>\n",
       "      <td>Banyak akun kloning seolah2 pendukung #agussil...</td>\n",
       "    </tr>\n",
       "    <tr>\n",
       "      <th>1</th>\n",
       "      <td>2</td>\n",
       "      <td>negative</td>\n",
       "      <td>Agus-Sylvi</td>\n",
       "      <td>#agussilvy bicara apa kasihan yaa...lap itu ai...</td>\n",
       "    </tr>\n",
       "    <tr>\n",
       "      <th>2</th>\n",
       "      <td>3</td>\n",
       "      <td>negative</td>\n",
       "      <td>Agus-Sylvi</td>\n",
       "      <td>Kalau aku sih gak nunggu hasil akhir QC tp lag...</td>\n",
       "    </tr>\n",
       "    <tr>\n",
       "      <th>3</th>\n",
       "      <td>4</td>\n",
       "      <td>negative</td>\n",
       "      <td>Agus-Sylvi</td>\n",
       "      <td>Kasian oh kasian dengan peluru 1milyar untuk t...</td>\n",
       "    </tr>\n",
       "    <tr>\n",
       "      <th>4</th>\n",
       "      <td>5</td>\n",
       "      <td>negative</td>\n",
       "      <td>Agus-Sylvi</td>\n",
       "      <td>Maaf ya pendukung #AgusSilvy..hayo dukung #Ani...</td>\n",
       "    </tr>\n",
       "  </tbody>\n",
       "</table>\n",
       "</div>"
      ],
      "text/plain": [
       "   Id  ...                                         Text Tweet\n",
       "0   1  ...  Banyak akun kloning seolah2 pendukung #agussil...\n",
       "1   2  ...  #agussilvy bicara apa kasihan yaa...lap itu ai...\n",
       "2   3  ...  Kalau aku sih gak nunggu hasil akhir QC tp lag...\n",
       "3   4  ...  Kasian oh kasian dengan peluru 1milyar untuk t...\n",
       "4   5  ...  Maaf ya pendukung #AgusSilvy..hayo dukung #Ani...\n",
       "\n",
       "[5 rows x 4 columns]"
      ]
     },
     "execution_count": 6,
     "metadata": {
      "tags": []
     },
     "output_type": "execute_result"
    }
   ],
   "source": [
    "df = pd.read_csv('dataset_tweet_sentiment_pilkada_DKI_2017.csv')\n",
    "df.head()"
   ]
  },
  {
   "cell_type": "markdown",
   "metadata": {
    "id": "hJUilmXWPhPU"
   },
   "source": [
    "### b. Case Folding\n",
    "\n",
    "Case folding adalah salah satu bentuk text preprocessing yang paling sederhana dan efektif meskipun sering diabaikan. Tujuan dari case folding untuk mengubah semua huruf dalam dokumen menjadi huruf kecil. Hanya huruf ‘a’ sampai ‘z’ yang diterima. Karakter selain huruf dihilangkan dan dianggap delimiter. Pada tahap ini tidak menggunakan external library apapun, kita bisa memanfaatkan modul yang tersedia di python."
   ]
  },
  {
   "cell_type": "markdown",
   "metadata": {
    "id": "nwJzdxbhPhPV"
   },
   "source": [
    "### Lowercase"
   ]
  },
  {
   "cell_type": "code",
   "execution_count": null,
   "metadata": {
    "ExecuteTime": {
     "end_time": "2021-07-22T09:43:50.714076Z",
     "start_time": "2021-07-22T09:43:50.699073Z"
    },
    "id": "7bJGX1sVPhPW"
   },
   "outputs": [],
   "source": [
    "df['Text Tweet'] = [x.lower() for x in df['Text Tweet']]"
   ]
  },
  {
   "cell_type": "code",
   "execution_count": null,
   "metadata": {
    "colab": {
     "base_uri": "https://localhost:8080/"
    },
    "id": "rRisUZ_8Q2O6",
    "outputId": "c67153f1-cd07-4823-efdc-e701eefc70b8"
   },
   "outputs": [
    {
     "data": {
      "text/plain": [
       "0    banyak akun kloning seolah2 pendukung #agussil...\n",
       "1    #agussilvy bicara apa kasihan yaa...lap itu ai...\n",
       "2    kalau aku sih gak nunggu hasil akhir qc tp lag...\n",
       "3    kasian oh kasian dengan peluru 1milyar untuk t...\n",
       "4    maaf ya pendukung #agussilvy..hayo dukung #ani...\n",
       "Name: Text Tweet, dtype: object"
      ]
     },
     "execution_count": 8,
     "metadata": {
      "tags": []
     },
     "output_type": "execute_result"
    }
   ],
   "source": [
    "df['Text Tweet'].head()"
   ]
  },
  {
   "cell_type": "markdown",
   "metadata": {
    "id": "VQzOawlPSh28"
   },
   "source": [
    "### c. Removing White Space\n",
    "Proses ini adalah proses menghapus spasi yang tidak diperlukan dalam kalimat supaya nantinya dalam analisa tidak dianggap menjadi suatu karakter yang unik"
   ]
  },
  {
   "cell_type": "code",
   "execution_count": null,
   "metadata": {
    "id": "v588IzO2S59r"
   },
   "outputs": [],
   "source": [
    "df['Text Tweet']=[x.strip() for x in df['Text Tweet']]"
   ]
  },
  {
   "cell_type": "code",
   "execution_count": null,
   "metadata": {
    "colab": {
     "base_uri": "https://localhost:8080/"
    },
    "id": "oOcQJEglTAu5",
    "outputId": "bbebbe05-f03a-499a-c671-516f474f0825"
   },
   "outputs": [
    {
     "data": {
      "text/plain": [
       "0    banyak akun kloning seolah2 pendukung #agussil...\n",
       "1    #agussilvy bicara apa kasihan yaa...lap itu ai...\n",
       "2    kalau aku sih gak nunggu hasil akhir qc tp lag...\n",
       "3    kasian oh kasian dengan peluru 1milyar untuk t...\n",
       "4    maaf ya pendukung #agussilvy..hayo dukung #ani...\n",
       "Name: Text Tweet, dtype: object"
      ]
     },
     "execution_count": 10,
     "metadata": {
      "tags": []
     },
     "output_type": "execute_result"
    }
   ],
   "source": [
    "df['Text Tweet'].head()"
   ]
  },
  {
   "cell_type": "markdown",
   "metadata": {
    "id": "_-L6-tOjR60V"
   },
   "source": [
    "### d. Tokenisasi\n",
    "Tokenisasi adalah proses pemisahan teks menjadi potongan-potongan yang disebut sebagai token untuk kemudian di analisa. Kata, angka, simbol, tanda baca dan entitas penting lainnya dapat dianggap sebagai token."
   ]
  },
  {
   "cell_type": "code",
   "execution_count": null,
   "metadata": {
    "ExecuteTime": {
     "end_time": "2021-07-22T09:43:50.730080Z",
     "start_time": "2021-07-22T09:43:50.716077Z"
    },
    "id": "HoFloFb9PhPX"
   },
   "outputs": [],
   "source": [
    "df['Text Tweet'] = [x.split() for x in df['Text Tweet']]"
   ]
  },
  {
   "cell_type": "code",
   "execution_count": null,
   "metadata": {
    "colab": {
     "base_uri": "https://localhost:8080/"
    },
    "id": "wHq7-fX-SEP_",
    "outputId": "06d44a57-928a-4dce-ed18-ab0bc1138da1"
   },
   "outputs": [
    {
     "data": {
      "text/plain": [
       "0      [banyak, akun, kloning, seolah2, pendukung, #a...\n",
       "1      [#agussilvy, bicara, apa, kasihan, yaa...lap, ...\n",
       "2      [kalau, aku, sih, gak, nunggu, hasil, akhir, q...\n",
       "3      [kasian, oh, kasian, dengan, peluru, 1milyar, ...\n",
       "4      [maaf, ya, pendukung, #agussilvy..hayo, dukung...\n",
       "                             ...                        \n",
       "895    [kali, saja, bpk, @aniesbaswedan, @sandiuno, l...\n",
       "896    [kita, harus, dapat, merangkul, semua, orang, ...\n",
       "897    [ini, jagoanku, dibidang, digital, <smiling, f...\n",
       "898            [#pesanbijak, #okeoce, #gubernurgu3, ...]\n",
       "899    [sandiaga:, bangun, rumah, dp, 0%, lebih, simp...\n",
       "Name: Text Tweet, Length: 900, dtype: object"
      ]
     },
     "execution_count": 12,
     "metadata": {
      "tags": []
     },
     "output_type": "execute_result"
    }
   ],
   "source": [
    "df['Text Tweet']"
   ]
  },
  {
   "cell_type": "markdown",
   "metadata": {
    "id": "v3oaxXRtPhPY"
   },
   "source": [
    "### e. Removing Non-Alphanumeric Character"
   ]
  },
  {
   "cell_type": "markdown",
   "metadata": {
    "id": "vonKj0ETPhPY"
   },
   "source": [
    "Non-alphanumeric characters comprise of all the characters except alphabets and numbers. It can be punctuation characters like exclamation mark(!), at symbol(@), commas(, ), question mark(?), colon(:), dash(-) etc and special characters like dollar sign($), equal symbol(=), plus sign(+), apostrophes(‘). "
   ]
  },
  {
   "cell_type": "code",
   "execution_count": null,
   "metadata": {
    "ExecuteTime": {
     "end_time": "2021-07-22T09:43:50.762087Z",
     "start_time": "2021-07-22T09:43:50.749085Z"
    },
    "id": "eegBMddQPhPZ"
   },
   "outputs": [],
   "source": [
    "#remove punctuation \n",
    "\n",
    "remove_table = str.maketrans(\"\", \"\", punctuation)\n",
    "nonpunctuation_stc = []\n",
    "for stc in df['Text Tweet']:\n",
    "    words = [x.translate(remove_table) for x in stc]\n",
    "    words2 = []\n",
    "    for w in words:\n",
    "        w = [x for x in w if x.isalnum()]\n",
    "        w = \"\".join(w)\n",
    "        words2.append(w)\n",
    "    \n",
    "    nonpunctuation_stc.append(words2) \n",
    "    \n",
    "    \n",
    "    \n",
    "df['Text Tweet'] = nonpunctuation_stc"
   ]
  },
  {
   "cell_type": "code",
   "execution_count": null,
   "metadata": {
    "ExecuteTime": {
     "end_time": "2021-07-22T09:43:50.778091Z",
     "start_time": "2021-07-22T09:43:50.764089Z"
    },
    "colab": {
     "base_uri": "https://localhost:8080/"
    },
    "id": "o5BygPUxPhPa",
    "outputId": "3b328830-d983-48f7-9644-0e3bcf03a9be"
   },
   "outputs": [
    {
     "data": {
      "text/plain": [
       "0    [banyak, akun, kloning, seolah2, pendukung, ag...\n",
       "1    [agussilvy, bicara, apa, kasihan, yaalap, itu,...\n",
       "2    [kalau, aku, sih, gak, nunggu, hasil, akhir, q...\n",
       "3    [kasian, oh, kasian, dengan, peluru, 1milyar, ...\n",
       "4    [maaf, ya, pendukung, agussilvyhayo, dukung, a...\n",
       "Name: Text Tweet, dtype: object"
      ]
     },
     "execution_count": 14,
     "metadata": {
      "tags": []
     },
     "output_type": "execute_result"
    }
   ],
   "source": [
    "df['Text Tweet'].head()"
   ]
  },
  {
   "cell_type": "code",
   "execution_count": null,
   "metadata": {
    "ExecuteTime": {
     "end_time": "2021-07-22T09:43:50.793095Z",
     "start_time": "2021-07-22T09:43:50.780091Z"
    },
    "colab": {
     "base_uri": "https://localhost:8080/"
    },
    "id": "cWRxvpdVPhPa",
    "outputId": "8ec3a8c0-abdd-49e6-973a-d9f26e8361ec"
   },
   "outputs": [
    {
     "data": {
      "text/plain": [
       "['banyak',\n",
       " 'akun',\n",
       " 'kloning',\n",
       " 'seolah2',\n",
       " 'pendukung',\n",
       " 'agussilvy',\n",
       " 'mulai',\n",
       " 'menyerang',\n",
       " 'paslon',\n",
       " 'aniessandi',\n",
       " 'dengan',\n",
       " 'opini',\n",
       " 'dan',\n",
       " 'argumen',\n",
       " 'pmbenaranjangan',\n",
       " 'terkecoh']"
      ]
     },
     "execution_count": 15,
     "metadata": {
      "tags": []
     },
     "output_type": "execute_result"
    }
   ],
   "source": [
    "df['Text Tweet'][0]"
   ]
  },
  {
   "cell_type": "markdown",
   "metadata": {
    "id": "7MWBlMp0PhPb"
   },
   "source": [
    "### d. Stopword Removing"
   ]
  },
  {
   "cell_type": "markdown",
   "metadata": {
    "id": "SzgNcldOPhPb"
   },
   "source": [
    "Stopword Removing adalah tahap mengambil kata-kata penting dari hasil token dengan menggunakan algoritma stoplist (membuang kata kurang penting) atau wordlist (menyimpan kata penting).\n",
    "\n",
    "Stopword adalah kata umum yang biasanya muncul dalam jumlah besar dan dianggap tidak memiliki makna. Contoh stopword dalam bahasa Indonesia adalah “yang”, “dan”, “di”, “dari”, dll. Makna di balik penggunaan stopword yaitu dengan menghapus kata-kata yang memiliki informasi rendah dari sebuah teks, kita dapat fokus pada kata-kata penting sebagai gantinya."
   ]
  },
  {
   "cell_type": "markdown",
   "metadata": {
    "id": "01QMNAmgPhPd"
   },
   "source": [
    "#### d.1 Using Stopwords Indonesian"
   ]
  },
  {
   "cell_type": "markdown",
   "metadata": {
    "id": "0_qgoREsPhPe"
   },
   "source": [
    "Before Stopwording using Stopwords Indonesian"
   ]
  },
  {
   "cell_type": "code",
   "execution_count": null,
   "metadata": {
    "ExecuteTime": {
     "end_time": "2021-07-22T09:43:50.808097Z",
     "start_time": "2021-07-22T09:43:50.794095Z"
    },
    "colab": {
     "base_uri": "https://localhost:8080/"
    },
    "id": "rpp0xK6xPhPe",
    "outputId": "423fc59c-36ce-4782-d479-d55ce08664f0"
   },
   "outputs": [
    {
     "data": {
      "text/plain": [
       "16"
      ]
     },
     "execution_count": 16,
     "metadata": {
      "tags": []
     },
     "output_type": "execute_result"
    }
   ],
   "source": [
    "len(df['Text Tweet'][0])"
   ]
  },
  {
   "cell_type": "code",
   "execution_count": null,
   "metadata": {
    "ExecuteTime": {
     "end_time": "2021-07-22T09:43:50.856109Z",
     "start_time": "2021-07-22T09:43:50.810098Z"
    },
    "id": "t0PAgf8mPhPf",
    "scrolled": true
   },
   "outputs": [],
   "source": [
    "# remove stopwords using Stopwords Indonesian\n",
    "\n",
    "nonstop_words = []\n",
    "\n",
    "for stc in df['Text Tweet']:\n",
    "    words = [x for x in stc if x not in stop_words]\n",
    "    \n",
    "    nonstop_words.append(words)\n",
    "df['StopwordsIndonesian']= nonstop_words\n",
    "\n"
   ]
  },
  {
   "cell_type": "code",
   "execution_count": null,
   "metadata": {
    "ExecuteTime": {
     "end_time": "2021-07-22T09:43:50.872113Z",
     "start_time": "2021-07-22T09:43:50.858109Z"
    },
    "colab": {
     "base_uri": "https://localhost:8080/"
    },
    "id": "s4ZpTzxVPhPf",
    "outputId": "38fd8792-3075-4f37-ff67-e95236d17ddd"
   },
   "outputs": [
    {
     "data": {
      "text/plain": [
       "0      [akun, kloning, seolah2, pendukung, agussilvy,...\n",
       "1      [agussilvy, bicara, kasihan, yaalap, air, mata...\n",
       "2      [sih, gak, nunggu, hasil, qc, tp, nunggu, moti...\n",
       "3      [kasian, oh, kasian, peluru, 1milyar, rw, agus...\n",
       "4      [maaf, ya, pendukung, agussilvyhayo, dukung, a...\n",
       "                             ...                        \n",
       "895    [kali, bpk, aniesbaswedan, sandiuno, lihat, rs...\n",
       "896    [merangkul, orang, batas, usia, kelamin, okeoc...\n",
       "897    [jagoanku, dibidang, digital, smiling, face, w...\n",
       "898                  [pesanbijak, okeoce, gubernurgu3, ]\n",
       "899    [sandiaga, bangun, rumah, dp, 0, simpel, diban...\n",
       "Name: StopwordsIndonesian, Length: 900, dtype: object"
      ]
     },
     "execution_count": 18,
     "metadata": {
      "tags": []
     },
     "output_type": "execute_result"
    }
   ],
   "source": [
    "df['StopwordsIndonesian']"
   ]
  },
  {
   "cell_type": "markdown",
   "metadata": {
    "id": "-B5zwFfePhPg"
   },
   "source": [
    "After Stopwording using Stopwords Indonesian"
   ]
  },
  {
   "cell_type": "code",
   "execution_count": null,
   "metadata": {
    "ExecuteTime": {
     "end_time": "2021-07-22T09:43:50.888116Z",
     "start_time": "2021-07-22T09:43:50.874113Z"
    },
    "colab": {
     "base_uri": "https://localhost:8080/"
    },
    "id": "7B36hTRRPhPh",
    "outputId": "d2302951-abe4-4471-c9dc-fcfe67280ac3"
   },
   "outputs": [
    {
     "data": {
      "text/plain": [
       "12"
      ]
     },
     "execution_count": 19,
     "metadata": {
      "tags": []
     },
     "output_type": "execute_result"
    }
   ],
   "source": [
    "len(df['StopwordsIndonesian'][0])"
   ]
  },
  {
   "cell_type": "markdown",
   "metadata": {
    "id": "jFSOwZVqPhPh"
   },
   "source": [
    "Join all words in StopwordsIndonesia into one sentence"
   ]
  },
  {
   "cell_type": "code",
   "execution_count": null,
   "metadata": {
    "ExecuteTime": {
     "end_time": "2021-07-22T09:43:50.904119Z",
     "start_time": "2021-07-22T09:43:50.890117Z"
    },
    "colab": {
     "base_uri": "https://localhost:8080/"
    },
    "id": "mjAc6DLWPhPi",
    "outputId": "1f744ba9-a6da-4919-af5d-5862891b5e2b"
   },
   "outputs": [
    {
     "data": {
      "text/plain": [
       "0      akun kloning seolah2 pendukung agussilvy menye...\n",
       "1      agussilvy bicara kasihan yaalap air matanya wk...\n",
       "2      sih gak nunggu hasil qc tp nunggu motif cuitan...\n",
       "3      kasian oh kasian peluru 1milyar rw agussilvy m...\n",
       "4      maaf ya pendukung agussilvyhayo dukung aniessa...\n",
       "                             ...                        \n",
       "895    kali bpk aniesbaswedan sandiuno lihat rspun se...\n",
       "896    merangkul orang batas usia kelamin okeoce ok h...\n",
       "897    jagoanku dibidang digital smiling face with su...\n",
       "898                       pesanbijak okeoce gubernurgu3 \n",
       "899    sandiaga bangun rumah dp 0 simpel dibanding to...\n",
       "Name: StopwordsIndonesian, Length: 900, dtype: object"
      ]
     },
     "execution_count": 20,
     "metadata": {
      "tags": []
     },
     "output_type": "execute_result"
    }
   ],
   "source": [
    "df['StopwordsIndonesian'] = [\" \".join(x) for x in df['StopwordsIndonesian']]\n",
    "df['StopwordsIndonesian']"
   ]
  },
  {
   "cell_type": "markdown",
   "metadata": {
    "id": "vt9xTTToPhPi"
   },
   "source": [
    "#### d.2 Using Stopwords Indonesian + Sastrawi"
   ]
  },
  {
   "cell_type": "code",
   "execution_count": null,
   "metadata": {
    "ExecuteTime": {
     "end_time": "2021-07-22T09:43:50.920123Z",
     "start_time": "2021-07-22T09:43:50.908120Z"
    },
    "colab": {
     "base_uri": "https://localhost:8080/"
    },
    "id": "HYRNetrfPhPj",
    "outputId": "44c8c256-5302-44f5-d4ad-cf353fce383e"
   },
   "outputs": [
    {
     "data": {
      "text/plain": [
       "0      [banyak, akun, kloning, seolah2, pendukung, ag...\n",
       "1      [agussilvy, bicara, apa, kasihan, yaalap, itu,...\n",
       "2      [kalau, aku, sih, gak, nunggu, hasil, akhir, q...\n",
       "3      [kasian, oh, kasian, dengan, peluru, 1milyar, ...\n",
       "4      [maaf, ya, pendukung, agussilvyhayo, dukung, a...\n",
       "                             ...                        \n",
       "895    [kali, saja, bpk, aniesbaswedan, sandiuno, lih...\n",
       "896    [kita, harus, dapat, merangkul, semua, orang, ...\n",
       "897    [ini, jagoanku, dibidang, digital, smiling, fa...\n",
       "898                  [pesanbijak, okeoce, gubernurgu3, ]\n",
       "899    [sandiaga, bangun, rumah, dp, 0, lebih, simpel...\n",
       "Name: Text Tweet, Length: 900, dtype: object"
      ]
     },
     "execution_count": 21,
     "metadata": {
      "tags": []
     },
     "output_type": "execute_result"
    }
   ],
   "source": [
    "df['Text Tweet']"
   ]
  },
  {
   "cell_type": "code",
   "execution_count": null,
   "metadata": {
    "ExecuteTime": {
     "end_time": "2021-07-22T09:43:50.936126Z",
     "start_time": "2021-07-22T09:43:50.922124Z"
    },
    "colab": {
     "base_uri": "https://localhost:8080/"
    },
    "id": "e_VisIdqPhPk",
    "outputId": "688e10bf-1245-4803-cbc1-50b9a4aaff5a",
    "scrolled": true
   },
   "outputs": [
    {
     "name": "stdout",
     "output_type": "stream",
     "text": [
      "['yang', 'untuk', 'pada', 'ke', 'para', 'namun', 'menurut', 'antara', 'dia', 'dua']\n"
     ]
    }
   ],
   "source": [
    "from Sastrawi.StopWordRemover.StopWordRemoverFactory import StopWordRemoverFactory\n",
    "import pandas as pd\n",
    "\n",
    "factory = StopWordRemoverFactory()\n",
    "stopwordSastrawi = factory.get_stop_words()\n",
    "\n",
    "print(stopwordSastrawi[:10])"
   ]
  },
  {
   "cell_type": "code",
   "execution_count": null,
   "metadata": {
    "ExecuteTime": {
     "end_time": "2021-07-22T09:43:50.952131Z",
     "start_time": "2021-07-22T09:43:50.940127Z"
    },
    "colab": {
     "base_uri": "https://localhost:8080/"
    },
    "id": "fiEYUD7MPhPl",
    "outputId": "e873aa70-5281-4ff1-d43a-b40aa5cd9d38"
   },
   "outputs": [
    {
     "data": {
      "text/plain": [
       "126"
      ]
     },
     "execution_count": 23,
     "metadata": {
      "tags": []
     },
     "output_type": "execute_result"
    }
   ],
   "source": [
    "len(stopwordSastrawi)"
   ]
  },
  {
   "cell_type": "code",
   "execution_count": null,
   "metadata": {
    "ExecuteTime": {
     "end_time": "2021-07-22T09:43:50.968133Z",
     "start_time": "2021-07-22T09:43:50.958131Z"
    },
    "colab": {
     "base_uri": "https://localhost:8080/"
    },
    "id": "QsR_lgJePhPl",
    "outputId": "ed16b3ab-e3dd-4941-d1de-d9d86434391f",
    "scrolled": true
   },
   "outputs": [
    {
     "name": "stdout",
     "output_type": "stream",
     "text": [
      "['ada', 'adalah', 'adanya', 'adapun', 'agak', 'agaknya', 'agar', 'akan', 'akankah', 'akhir']\n"
     ]
    }
   ],
   "source": [
    "#Stopwords Indonesian from nltk library\n",
    "print(stop_words[:10])"
   ]
  },
  {
   "cell_type": "code",
   "execution_count": null,
   "metadata": {
    "ExecuteTime": {
     "end_time": "2021-07-22T09:43:50.983137Z",
     "start_time": "2021-07-22T09:43:50.971134Z"
    },
    "colab": {
     "base_uri": "https://localhost:8080/"
    },
    "id": "mDlqWCCKPhPm",
    "outputId": "16aa15ce-8340-4d4d-f9d5-21df899e1226"
   },
   "outputs": [
    {
     "data": {
      "text/plain": [
       "758"
      ]
     },
     "execution_count": 25,
     "metadata": {
      "tags": []
     },
     "output_type": "execute_result"
    }
   ],
   "source": [
    "len(stop_words)"
   ]
  },
  {
   "cell_type": "code",
   "execution_count": null,
   "metadata": {
    "ExecuteTime": {
     "end_time": "2021-07-22T09:43:50.999141Z",
     "start_time": "2021-07-22T09:43:50.985137Z"
    },
    "id": "D9qBypg4PhPm"
   },
   "outputs": [],
   "source": [
    "#Combine the Stopword from nltk and sastrawi library\n",
    "StopwordIndonesianSastrawi = stop_words + stopwordSastrawi"
   ]
  },
  {
   "cell_type": "code",
   "execution_count": null,
   "metadata": {
    "ExecuteTime": {
     "end_time": "2021-07-22T09:43:51.014144Z",
     "start_time": "2021-07-22T09:43:51.001141Z"
    },
    "colab": {
     "base_uri": "https://localhost:8080/"
    },
    "id": "ZL1hk2MbPhPm",
    "outputId": "17da567d-011a-4db4-8840-4ad97996763f"
   },
   "outputs": [
    {
     "name": "stdout",
     "output_type": "stream",
     "text": [
      "['ada', 'adalah', 'adanya', 'adapun', 'agak', 'agaknya', 'agar', 'akan', 'akankah', 'akhir']\n"
     ]
    }
   ],
   "source": [
    "print(StopwordIndonesianSastrawi[:10])"
   ]
  },
  {
   "cell_type": "code",
   "execution_count": null,
   "metadata": {
    "ExecuteTime": {
     "end_time": "2021-07-22T09:43:51.030148Z",
     "start_time": "2021-07-22T09:43:51.018145Z"
    },
    "colab": {
     "base_uri": "https://localhost:8080/"
    },
    "id": "P3c5ofYJPhPn",
    "outputId": "210ab6fe-69a1-43f2-9fe0-87e04f29ae4d"
   },
   "outputs": [
    {
     "data": {
      "text/plain": [
       "884"
      ]
     },
     "execution_count": 28,
     "metadata": {
      "tags": []
     },
     "output_type": "execute_result"
    }
   ],
   "source": [
    "len(StopwordIndonesianSastrawi)"
   ]
  },
  {
   "cell_type": "code",
   "execution_count": null,
   "metadata": {
    "ExecuteTime": {
     "end_time": "2021-07-22T09:43:51.094162Z",
     "start_time": "2021-07-22T09:43:51.033148Z"
    },
    "id": "hMZ315ZIPhPn"
   },
   "outputs": [],
   "source": [
    "# remove stopwords using Stopwords IndonesianSastrawi\n",
    "\n",
    "nonstop_words_IndonesianSastrawi = []\n",
    "\n",
    "for stc in df['Text Tweet']:\n",
    "    words = [x for x in stc if x not in StopwordIndonesianSastrawi]\n",
    "    \n",
    "    nonstop_words_IndonesianSastrawi.append(words)\n",
    "df['StopwordsIndonesianSastrawi']= nonstop_words_IndonesianSastrawi"
   ]
  },
  {
   "cell_type": "code",
   "execution_count": null,
   "metadata": {
    "ExecuteTime": {
     "end_time": "2021-07-22T09:43:51.110166Z",
     "start_time": "2021-07-22T09:43:51.096162Z"
    },
    "colab": {
     "base_uri": "https://localhost:8080/"
    },
    "id": "1w8d-mpVPhPo",
    "outputId": "269c3a2f-996f-4df7-b82d-3a5cbde9d80f"
   },
   "outputs": [
    {
     "data": {
      "text/plain": [
       "['akun',\n",
       " 'kloning',\n",
       " 'seolah2',\n",
       " 'pendukung',\n",
       " 'agussilvy',\n",
       " 'menyerang',\n",
       " 'paslon',\n",
       " 'aniessandi',\n",
       " 'opini',\n",
       " 'argumen',\n",
       " 'pmbenaranjangan',\n",
       " 'terkecoh']"
      ]
     },
     "execution_count": 30,
     "metadata": {
      "tags": []
     },
     "output_type": "execute_result"
    }
   ],
   "source": [
    "df['StopwordsIndonesianSastrawi'][0]"
   ]
  },
  {
   "cell_type": "code",
   "execution_count": null,
   "metadata": {
    "ExecuteTime": {
     "end_time": "2021-07-22T09:43:51.126170Z",
     "start_time": "2021-07-22T09:43:51.112166Z"
    },
    "colab": {
     "base_uri": "https://localhost:8080/"
    },
    "id": "jmxUF19FPhPp",
    "outputId": "6c507a2f-0d4a-4fef-89fe-6527b6eb023a"
   },
   "outputs": [
    {
     "data": {
      "text/plain": [
       "12"
      ]
     },
     "execution_count": 31,
     "metadata": {
      "tags": []
     },
     "output_type": "execute_result"
    }
   ],
   "source": [
    "len(df['StopwordsIndonesianSastrawi'][0])"
   ]
  },
  {
   "cell_type": "markdown",
   "metadata": {
    "id": "mkFWPUheWdpd"
   },
   "source": [
    "Join all words in StopwordsIndonesiaSastrawi into one sentence"
   ]
  },
  {
   "cell_type": "code",
   "execution_count": null,
   "metadata": {
    "colab": {
     "base_uri": "https://localhost:8080/",
     "height": 35
    },
    "id": "ZAGMT73zV_fQ",
    "outputId": "2029bc4f-266c-481a-8698-01c9ad63e581"
   },
   "outputs": [
    {
     "data": {
      "application/vnd.google.colaboratory.intrinsic+json": {
       "type": "string"
      },
      "text/plain": [
       "'akun kloning seolah2 pendukung agussilvy menyerang paslon aniessandi opini argumen pmbenaranjangan terkecoh'"
      ]
     },
     "execution_count": 32,
     "metadata": {
      "tags": []
     },
     "output_type": "execute_result"
    }
   ],
   "source": [
    "df['StopwordsIndonesianSastrawi'] = [\" \".join(x) for x in df['StopwordsIndonesianSastrawi']]\n",
    "df['StopwordsIndonesianSastrawi'][0]"
   ]
  },
  {
   "cell_type": "code",
   "execution_count": null,
   "metadata": {
    "ExecuteTime": {
     "end_time": "2021-07-22T09:43:51.142173Z",
     "start_time": "2021-07-22T09:43:51.128170Z"
    },
    "colab": {
     "base_uri": "https://localhost:8080/"
    },
    "id": "8HnPYaTnPhPp",
    "outputId": "967c3da5-4ace-4b45-d623-54ff1273359f"
   },
   "outputs": [
    {
     "data": {
      "text/plain": [
       "0    akun kloning seolah2 pendukung agussilvy menye...\n",
       "1    agussilvy bicara kasihan yaalap air matanya wk...\n",
       "2    sih gak nunggu hasil qc tp nunggu motif cuitan...\n",
       "3    kasian kasian peluru 1milyar rw agussilvy memp...\n",
       "4    maaf pendukung agussilvyhayo dukung aniessandi...\n",
       "Name: StopwordsIndonesianSastrawi, dtype: object"
      ]
     },
     "execution_count": 33,
     "metadata": {
      "tags": []
     },
     "output_type": "execute_result"
    }
   ],
   "source": [
    "df['StopwordsIndonesianSastrawi'].head()"
   ]
  },
  {
   "cell_type": "markdown",
   "metadata": {
    "id": "RbpeMuWBdu4h"
   },
   "source": [
    "### e. Stemming\n",
    "Proses membuang imbuhan dalam suatu kata sehingga kata yang dihasilkan merupakan kata dasar"
   ]
  },
  {
   "cell_type": "code",
   "execution_count": null,
   "metadata": {
    "id": "OmqC6WuQduX3"
   },
   "outputs": [],
   "source": [
    "df['Stemming text'] = [stemmer.stem(x) for x in df['StopwordsIndonesianSastrawi']]"
   ]
  },
  {
   "cell_type": "code",
   "execution_count": null,
   "metadata": {
    "ExecuteTime": {
     "end_time": "2021-07-22T09:56:52.593608Z",
     "start_time": "2021-07-22T09:56:52.569591Z"
    },
    "colab": {
     "base_uri": "https://localhost:8080/",
     "height": 408
    },
    "id": "HfOB4wdcPhPq",
    "outputId": "51bc3fdf-f97b-4970-9a55-fabcc13ca257"
   },
   "outputs": [
    {
     "data": {
      "text/html": [
       "<div>\n",
       "<style scoped>\n",
       "    .dataframe tbody tr th:only-of-type {\n",
       "        vertical-align: middle;\n",
       "    }\n",
       "\n",
       "    .dataframe tbody tr th {\n",
       "        vertical-align: top;\n",
       "    }\n",
       "\n",
       "    .dataframe thead th {\n",
       "        text-align: right;\n",
       "    }\n",
       "</style>\n",
       "<table border=\"1\" class=\"dataframe\">\n",
       "  <thead>\n",
       "    <tr style=\"text-align: right;\">\n",
       "      <th></th>\n",
       "      <th>Id</th>\n",
       "      <th>Sentiment</th>\n",
       "      <th>Pasangan Calon</th>\n",
       "      <th>Text Tweet</th>\n",
       "      <th>StopwordsIndonesian</th>\n",
       "      <th>StopwordsIndonesianSastrawi</th>\n",
       "      <th>Stemming text</th>\n",
       "    </tr>\n",
       "  </thead>\n",
       "  <tbody>\n",
       "    <tr>\n",
       "      <th>0</th>\n",
       "      <td>1</td>\n",
       "      <td>negative</td>\n",
       "      <td>Agus-Sylvi</td>\n",
       "      <td>[banyak, akun, kloning, seolah2, pendukung, ag...</td>\n",
       "      <td>akun kloning seolah2 pendukung agussilvy menye...</td>\n",
       "      <td>akun kloning seolah2 pendukung agussilvy menye...</td>\n",
       "      <td>akun kloning seolah2 dukung agussilvy serang p...</td>\n",
       "    </tr>\n",
       "    <tr>\n",
       "      <th>1</th>\n",
       "      <td>2</td>\n",
       "      <td>negative</td>\n",
       "      <td>Agus-Sylvi</td>\n",
       "      <td>[agussilvy, bicara, apa, kasihan, yaalap, itu,...</td>\n",
       "      <td>agussilvy bicara kasihan yaalap air matanya wk...</td>\n",
       "      <td>agussilvy bicara kasihan yaalap air matanya wk...</td>\n",
       "      <td>agussilvy bicara kasihan yaalap air mata wkwkwkwk</td>\n",
       "    </tr>\n",
       "    <tr>\n",
       "      <th>2</th>\n",
       "      <td>3</td>\n",
       "      <td>negative</td>\n",
       "      <td>Agus-Sylvi</td>\n",
       "      <td>[kalau, aku, sih, gak, nunggu, hasil, akhir, q...</td>\n",
       "      <td>sih gak nunggu hasil qc tp nunggu motif cuitan...</td>\n",
       "      <td>sih gak nunggu hasil qc tp nunggu motif cuitan...</td>\n",
       "      <td>sih gak nunggu hasil qc tp nunggu motif cuit s...</td>\n",
       "    </tr>\n",
       "    <tr>\n",
       "      <th>3</th>\n",
       "      <td>4</td>\n",
       "      <td>negative</td>\n",
       "      <td>Agus-Sylvi</td>\n",
       "      <td>[kasian, oh, kasian, dengan, peluru, 1milyar, ...</td>\n",
       "      <td>kasian oh kasian peluru 1milyar rw agussilvy m...</td>\n",
       "      <td>kasian kasian peluru 1milyar rw agussilvy memp...</td>\n",
       "      <td>kasi kasi peluru 1milyar rw agussilvy mempan m...</td>\n",
       "    </tr>\n",
       "    <tr>\n",
       "      <th>4</th>\n",
       "      <td>5</td>\n",
       "      <td>negative</td>\n",
       "      <td>Agus-Sylvi</td>\n",
       "      <td>[maaf, ya, pendukung, agussilvyhayo, dukung, a...</td>\n",
       "      <td>maaf ya pendukung agussilvyhayo dukung aniessa...</td>\n",
       "      <td>maaf pendukung agussilvyhayo dukung aniessandi...</td>\n",
       "      <td>maaf dukung agussilvyhayo dukung aniessandi pu...</td>\n",
       "    </tr>\n",
       "  </tbody>\n",
       "</table>\n",
       "</div>"
      ],
      "text/plain": [
       "   Id  ...                                      Stemming text\n",
       "0   1  ...  akun kloning seolah2 dukung agussilvy serang p...\n",
       "1   2  ...  agussilvy bicara kasihan yaalap air mata wkwkwkwk\n",
       "2   3  ...  sih gak nunggu hasil qc tp nunggu motif cuit s...\n",
       "3   4  ...  kasi kasi peluru 1milyar rw agussilvy mempan m...\n",
       "4   5  ...  maaf dukung agussilvyhayo dukung aniessandi pu...\n",
       "\n",
       "[5 rows x 7 columns]"
      ]
     },
     "execution_count": 35,
     "metadata": {
      "tags": []
     },
     "output_type": "execute_result"
    }
   ],
   "source": [
    "df.head()"
   ]
  },
  {
   "cell_type": "markdown",
   "metadata": {
    "id": "CZLgb2QWPhPq"
   },
   "source": [
    "## 2. Please do feature extraction with Bag of words and Tf-Idf techniques"
   ]
  },
  {
   "cell_type": "markdown",
   "metadata": {
    "id": "xz6xirvGPhPr"
   },
   "source": [
    "### a). Feature extraction"
   ]
  },
  {
   "cell_type": "markdown",
   "metadata": {
    "id": "v99_z-C5PhPr"
   },
   "source": [
    "#### a).1 Using BagofWords Count Vectorizer"
   ]
  },
  {
   "cell_type": "markdown",
   "metadata": {
    "id": "7yEFac7VPhPs"
   },
   "source": [
    "Bag of words is a Natural Language Processing technique of text modelling. In technical terms, we can say that it is a method of feature extraction with text data. This approach is a simple and flexible way of extracting features from documents.\n",
    "\n",
    "A bag of words is a representation of text that describes the occurrence of words within a document. We just keep track of word counts and disregard the grammatical details and the word order. It is called a “bag” of words because any information about the order or structure of words in the document is discarded. The model is only concerned with whether known words occur in the document, not where in the document.\n",
    "\n",
    "![Bag of Words.png](data:image/png;base64,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)\n"
   ]
  },
  {
   "cell_type": "markdown",
   "metadata": {
    "id": "btABVXVhPhPt"
   },
   "source": [
    "#### EXAMPLE"
   ]
  },
  {
   "cell_type": "code",
   "execution_count": null,
   "metadata": {
    "ExecuteTime": {
     "end_time": "2021-07-22T09:43:51.158177Z",
     "start_time": "2021-07-22T09:43:51.144173Z"
    },
    "colab": {
     "base_uri": "https://localhost:8080/"
    },
    "id": "qIfenSIPPhPt",
    "outputId": "5275c38b-2bca-48aa-d2c8-b702d2923fdb"
   },
   "outputs": [
    {
     "name": "stdout",
     "output_type": "stream",
     "text": [
      "   good  job  miss\n",
      "0     1    1     1\n",
      "1     1    0     0\n"
     ]
    }
   ],
   "source": [
    "import pandas as pd\n",
    "from sklearn.feature_extraction.text import CountVectorizer, TfidfVectorizer\n",
    " \n",
    "sentence_1=\"This is a good job.I will not miss it for anything\"\n",
    "sentence_2=\"This is not good at all\"\n",
    " \n",
    " \n",
    " \n",
    "CountVec = CountVectorizer(ngram_range=(1,1), # to use bigrams ngram_range=(2,2)\n",
    "                           stop_words='english')\n",
    "#transform\n",
    "Count_data = CountVec.fit_transform([sentence_1,sentence_2])\n",
    " \n",
    "#create dataframe\n",
    "cv_dataframe=pd.DataFrame(Count_data.toarray(),columns=CountVec.get_feature_names())\n",
    "print(cv_dataframe)"
   ]
  },
  {
   "cell_type": "markdown",
   "metadata": {
    "id": "KT2v7Mh_PhPv"
   },
   "source": [
    "#### Applied to df['StopwordsIndonesianSastrawi']"
   ]
  },
  {
   "cell_type": "code",
   "execution_count": null,
   "metadata": {
    "ExecuteTime": {
     "end_time": "2021-07-22T09:43:51.174180Z",
     "start_time": "2021-07-22T09:43:51.160177Z"
    },
    "id": "InNPDIrkPhPv"
   },
   "outputs": [],
   "source": [
    "bow = CountVectorizer()\n",
    "\n",
    "#transform\n",
    "X_sentence = bow.fit_transform(df['StopwordsIndonesianSastrawi'])\n",
    "X_sentence_df= pd.DataFrame(X_sentence.toarray(), columns = bow.get_feature_names())"
   ]
  },
  {
   "cell_type": "code",
   "execution_count": null,
   "metadata": {
    "ExecuteTime": {
     "end_time": "2021-07-22T09:43:59.467612Z",
     "start_time": "2021-07-22T09:43:59.452103Z"
    },
    "colab": {
     "base_uri": "https://localhost:8080/",
     "height": 439
    },
    "id": "4d_xWcbzPhPv",
    "outputId": "857cc9c9-a56c-42d5-fe8f-b2414aaedc7a"
   },
   "outputs": [
    {
     "data": {
      "text/html": [
       "<div>\n",
       "<style scoped>\n",
       "    .dataframe tbody tr th:only-of-type {\n",
       "        vertical-align: middle;\n",
       "    }\n",
       "\n",
       "    .dataframe tbody tr th {\n",
       "        vertical-align: top;\n",
       "    }\n",
       "\n",
       "    .dataframe thead th {\n",
       "        text-align: right;\n",
       "    }\n",
       "</style>\n",
       "<table border=\"1\" class=\"dataframe\">\n",
       "  <thead>\n",
       "    <tr style=\"text-align: right;\">\n",
       "      <th></th>\n",
       "      <th>002</th>\n",
       "      <th>011010</th>\n",
       "      <th>07</th>\n",
       "      <th>0rp</th>\n",
       "      <th>100</th>\n",
       "      <th>1000</th>\n",
       "      <th>1000lilin</th>\n",
       "      <th>112</th>\n",
       "      <th>12</th>\n",
       "      <th>13</th>\n",
       "      <th>1435</th>\n",
       "      <th>151</th>\n",
       "      <th>17</th>\n",
       "      <th>19</th>\n",
       "      <th>19april2017</th>\n",
       "      <th>1kenape</th>\n",
       "      <th>1milyar</th>\n",
       "      <th>1milyarrw</th>\n",
       "      <th>200000</th>\n",
       "      <th>2016</th>\n",
       "      <th>2017</th>\n",
       "      <th>20172022</th>\n",
       "      <th>2018</th>\n",
       "      <th>2019</th>\n",
       "      <th>23</th>\n",
       "      <th>25x</th>\n",
       "      <th>2600</th>\n",
       "      <th>28</th>\n",
       "      <th>2mesti</th>\n",
       "      <th>2putaran</th>\n",
       "      <th>300</th>\n",
       "      <th>30th</th>\n",
       "      <th>350jt</th>\n",
       "      <th>3hari</th>\n",
       "      <th>3x</th>\n",
       "      <th>3ya3</th>\n",
       "      <th>4000</th>\n",
       "      <th>42</th>\n",
       "      <th>52</th>\n",
       "      <th>5796</th>\n",
       "      <th>...</th>\n",
       "      <th>wiiih</th>\n",
       "      <th>wilayah</th>\n",
       "      <th>wingstourinjakarta</th>\n",
       "      <th>wirausaha</th>\n",
       "      <th>wisata</th>\n",
       "      <th>wisdom</th>\n",
       "      <th>with</th>\n",
       "      <th>without</th>\n",
       "      <th>wkwkwk</th>\n",
       "      <th>wkwkwkface</th>\n",
       "      <th>wkwkwkwk</th>\n",
       "      <th>wkwkwkwkkwkk</th>\n",
       "      <th>wpap</th>\n",
       "      <th>yaa</th>\n",
       "      <th>yaaa</th>\n",
       "      <th>yaaaa</th>\n",
       "      <th>yaalap</th>\n",
       "      <th>yah</th>\n",
       "      <th>yahudi</th>\n",
       "      <th>yak</th>\n",
       "      <th>yangbikinberantem</th>\n",
       "      <th>yasaveahok</th>\n",
       "      <th>ye</th>\n",
       "      <th>yee1dan3</th>\n",
       "      <th>yep</th>\n",
       "      <th>yes</th>\n",
       "      <th>yg</th>\n",
       "      <th>yme</th>\n",
       "      <th>ynwa</th>\n",
       "      <th>youtube</th>\n",
       "      <th>youtubebxrzd69u61a</th>\n",
       "      <th>yra</th>\n",
       "      <th>yudhoyono</th>\n",
       "      <th>yuk</th>\n",
       "      <th>yusuf</th>\n",
       "      <th>zalim</th>\n",
       "      <th>zarazettirazr</th>\n",
       "      <th>zarazettirazz</th>\n",
       "      <th>zippermouth</th>\n",
       "      <th>zona</th>\n",
       "    </tr>\n",
       "  </thead>\n",
       "  <tbody>\n",
       "    <tr>\n",
       "      <th>0</th>\n",
       "      <td>0</td>\n",
       "      <td>0</td>\n",
       "      <td>0</td>\n",
       "      <td>0</td>\n",
       "      <td>0</td>\n",
       "      <td>0</td>\n",
       "      <td>0</td>\n",
       "      <td>0</td>\n",
       "      <td>0</td>\n",
       "      <td>0</td>\n",
       "      <td>0</td>\n",
       "      <td>0</td>\n",
       "      <td>0</td>\n",
       "      <td>0</td>\n",
       "      <td>0</td>\n",
       "      <td>0</td>\n",
       "      <td>0</td>\n",
       "      <td>0</td>\n",
       "      <td>0</td>\n",
       "      <td>0</td>\n",
       "      <td>0</td>\n",
       "      <td>0</td>\n",
       "      <td>0</td>\n",
       "      <td>0</td>\n",
       "      <td>0</td>\n",
       "      <td>0</td>\n",
       "      <td>0</td>\n",
       "      <td>0</td>\n",
       "      <td>0</td>\n",
       "      <td>0</td>\n",
       "      <td>0</td>\n",
       "      <td>0</td>\n",
       "      <td>0</td>\n",
       "      <td>0</td>\n",
       "      <td>0</td>\n",
       "      <td>0</td>\n",
       "      <td>0</td>\n",
       "      <td>0</td>\n",
       "      <td>0</td>\n",
       "      <td>0</td>\n",
       "      <td>...</td>\n",
       "      <td>0</td>\n",
       "      <td>0</td>\n",
       "      <td>0</td>\n",
       "      <td>0</td>\n",
       "      <td>0</td>\n",
       "      <td>0</td>\n",
       "      <td>0</td>\n",
       "      <td>0</td>\n",
       "      <td>0</td>\n",
       "      <td>0</td>\n",
       "      <td>0</td>\n",
       "      <td>0</td>\n",
       "      <td>0</td>\n",
       "      <td>0</td>\n",
       "      <td>0</td>\n",
       "      <td>0</td>\n",
       "      <td>0</td>\n",
       "      <td>0</td>\n",
       "      <td>0</td>\n",
       "      <td>0</td>\n",
       "      <td>0</td>\n",
       "      <td>0</td>\n",
       "      <td>0</td>\n",
       "      <td>0</td>\n",
       "      <td>0</td>\n",
       "      <td>0</td>\n",
       "      <td>0</td>\n",
       "      <td>0</td>\n",
       "      <td>0</td>\n",
       "      <td>0</td>\n",
       "      <td>0</td>\n",
       "      <td>0</td>\n",
       "      <td>0</td>\n",
       "      <td>0</td>\n",
       "      <td>0</td>\n",
       "      <td>0</td>\n",
       "      <td>0</td>\n",
       "      <td>0</td>\n",
       "      <td>0</td>\n",
       "      <td>0</td>\n",
       "    </tr>\n",
       "    <tr>\n",
       "      <th>1</th>\n",
       "      <td>0</td>\n",
       "      <td>0</td>\n",
       "      <td>0</td>\n",
       "      <td>0</td>\n",
       "      <td>0</td>\n",
       "      <td>0</td>\n",
       "      <td>0</td>\n",
       "      <td>0</td>\n",
       "      <td>0</td>\n",
       "      <td>0</td>\n",
       "      <td>0</td>\n",
       "      <td>0</td>\n",
       "      <td>0</td>\n",
       "      <td>0</td>\n",
       "      <td>0</td>\n",
       "      <td>0</td>\n",
       "      <td>0</td>\n",
       "      <td>0</td>\n",
       "      <td>0</td>\n",
       "      <td>0</td>\n",
       "      <td>0</td>\n",
       "      <td>0</td>\n",
       "      <td>0</td>\n",
       "      <td>0</td>\n",
       "      <td>0</td>\n",
       "      <td>0</td>\n",
       "      <td>0</td>\n",
       "      <td>0</td>\n",
       "      <td>0</td>\n",
       "      <td>0</td>\n",
       "      <td>0</td>\n",
       "      <td>0</td>\n",
       "      <td>0</td>\n",
       "      <td>0</td>\n",
       "      <td>0</td>\n",
       "      <td>0</td>\n",
       "      <td>0</td>\n",
       "      <td>0</td>\n",
       "      <td>0</td>\n",
       "      <td>0</td>\n",
       "      <td>...</td>\n",
       "      <td>0</td>\n",
       "      <td>0</td>\n",
       "      <td>0</td>\n",
       "      <td>0</td>\n",
       "      <td>0</td>\n",
       "      <td>0</td>\n",
       "      <td>0</td>\n",
       "      <td>0</td>\n",
       "      <td>0</td>\n",
       "      <td>0</td>\n",
       "      <td>1</td>\n",
       "      <td>0</td>\n",
       "      <td>0</td>\n",
       "      <td>0</td>\n",
       "      <td>0</td>\n",
       "      <td>0</td>\n",
       "      <td>1</td>\n",
       "      <td>0</td>\n",
       "      <td>0</td>\n",
       "      <td>0</td>\n",
       "      <td>0</td>\n",
       "      <td>0</td>\n",
       "      <td>0</td>\n",
       "      <td>0</td>\n",
       "      <td>0</td>\n",
       "      <td>0</td>\n",
       "      <td>0</td>\n",
       "      <td>0</td>\n",
       "      <td>0</td>\n",
       "      <td>0</td>\n",
       "      <td>0</td>\n",
       "      <td>0</td>\n",
       "      <td>0</td>\n",
       "      <td>0</td>\n",
       "      <td>0</td>\n",
       "      <td>0</td>\n",
       "      <td>0</td>\n",
       "      <td>0</td>\n",
       "      <td>0</td>\n",
       "      <td>0</td>\n",
       "    </tr>\n",
       "    <tr>\n",
       "      <th>2</th>\n",
       "      <td>0</td>\n",
       "      <td>0</td>\n",
       "      <td>0</td>\n",
       "      <td>0</td>\n",
       "      <td>0</td>\n",
       "      <td>0</td>\n",
       "      <td>0</td>\n",
       "      <td>0</td>\n",
       "      <td>0</td>\n",
       "      <td>0</td>\n",
       "      <td>0</td>\n",
       "      <td>0</td>\n",
       "      <td>0</td>\n",
       "      <td>0</td>\n",
       "      <td>0</td>\n",
       "      <td>0</td>\n",
       "      <td>0</td>\n",
       "      <td>0</td>\n",
       "      <td>0</td>\n",
       "      <td>0</td>\n",
       "      <td>0</td>\n",
       "      <td>0</td>\n",
       "      <td>0</td>\n",
       "      <td>0</td>\n",
       "      <td>0</td>\n",
       "      <td>0</td>\n",
       "      <td>0</td>\n",
       "      <td>0</td>\n",
       "      <td>0</td>\n",
       "      <td>0</td>\n",
       "      <td>0</td>\n",
       "      <td>0</td>\n",
       "      <td>0</td>\n",
       "      <td>0</td>\n",
       "      <td>0</td>\n",
       "      <td>0</td>\n",
       "      <td>0</td>\n",
       "      <td>0</td>\n",
       "      <td>0</td>\n",
       "      <td>0</td>\n",
       "      <td>...</td>\n",
       "      <td>0</td>\n",
       "      <td>0</td>\n",
       "      <td>0</td>\n",
       "      <td>0</td>\n",
       "      <td>0</td>\n",
       "      <td>0</td>\n",
       "      <td>0</td>\n",
       "      <td>0</td>\n",
       "      <td>0</td>\n",
       "      <td>0</td>\n",
       "      <td>0</td>\n",
       "      <td>0</td>\n",
       "      <td>0</td>\n",
       "      <td>0</td>\n",
       "      <td>0</td>\n",
       "      <td>0</td>\n",
       "      <td>0</td>\n",
       "      <td>0</td>\n",
       "      <td>0</td>\n",
       "      <td>0</td>\n",
       "      <td>0</td>\n",
       "      <td>0</td>\n",
       "      <td>0</td>\n",
       "      <td>0</td>\n",
       "      <td>0</td>\n",
       "      <td>0</td>\n",
       "      <td>0</td>\n",
       "      <td>0</td>\n",
       "      <td>0</td>\n",
       "      <td>0</td>\n",
       "      <td>0</td>\n",
       "      <td>0</td>\n",
       "      <td>0</td>\n",
       "      <td>0</td>\n",
       "      <td>0</td>\n",
       "      <td>0</td>\n",
       "      <td>0</td>\n",
       "      <td>0</td>\n",
       "      <td>0</td>\n",
       "      <td>0</td>\n",
       "    </tr>\n",
       "    <tr>\n",
       "      <th>3</th>\n",
       "      <td>0</td>\n",
       "      <td>0</td>\n",
       "      <td>0</td>\n",
       "      <td>0</td>\n",
       "      <td>0</td>\n",
       "      <td>0</td>\n",
       "      <td>0</td>\n",
       "      <td>0</td>\n",
       "      <td>0</td>\n",
       "      <td>0</td>\n",
       "      <td>0</td>\n",
       "      <td>0</td>\n",
       "      <td>0</td>\n",
       "      <td>0</td>\n",
       "      <td>0</td>\n",
       "      <td>0</td>\n",
       "      <td>1</td>\n",
       "      <td>0</td>\n",
       "      <td>0</td>\n",
       "      <td>0</td>\n",
       "      <td>0</td>\n",
       "      <td>0</td>\n",
       "      <td>0</td>\n",
       "      <td>0</td>\n",
       "      <td>0</td>\n",
       "      <td>0</td>\n",
       "      <td>0</td>\n",
       "      <td>0</td>\n",
       "      <td>0</td>\n",
       "      <td>0</td>\n",
       "      <td>0</td>\n",
       "      <td>0</td>\n",
       "      <td>0</td>\n",
       "      <td>0</td>\n",
       "      <td>0</td>\n",
       "      <td>0</td>\n",
       "      <td>0</td>\n",
       "      <td>0</td>\n",
       "      <td>0</td>\n",
       "      <td>0</td>\n",
       "      <td>...</td>\n",
       "      <td>0</td>\n",
       "      <td>0</td>\n",
       "      <td>0</td>\n",
       "      <td>0</td>\n",
       "      <td>0</td>\n",
       "      <td>0</td>\n",
       "      <td>0</td>\n",
       "      <td>0</td>\n",
       "      <td>0</td>\n",
       "      <td>0</td>\n",
       "      <td>0</td>\n",
       "      <td>0</td>\n",
       "      <td>0</td>\n",
       "      <td>0</td>\n",
       "      <td>0</td>\n",
       "      <td>0</td>\n",
       "      <td>0</td>\n",
       "      <td>0</td>\n",
       "      <td>0</td>\n",
       "      <td>0</td>\n",
       "      <td>0</td>\n",
       "      <td>0</td>\n",
       "      <td>0</td>\n",
       "      <td>0</td>\n",
       "      <td>0</td>\n",
       "      <td>0</td>\n",
       "      <td>0</td>\n",
       "      <td>0</td>\n",
       "      <td>0</td>\n",
       "      <td>0</td>\n",
       "      <td>0</td>\n",
       "      <td>0</td>\n",
       "      <td>0</td>\n",
       "      <td>0</td>\n",
       "      <td>0</td>\n",
       "      <td>0</td>\n",
       "      <td>0</td>\n",
       "      <td>0</td>\n",
       "      <td>0</td>\n",
       "      <td>0</td>\n",
       "    </tr>\n",
       "    <tr>\n",
       "      <th>4</th>\n",
       "      <td>0</td>\n",
       "      <td>0</td>\n",
       "      <td>0</td>\n",
       "      <td>0</td>\n",
       "      <td>0</td>\n",
       "      <td>0</td>\n",
       "      <td>0</td>\n",
       "      <td>0</td>\n",
       "      <td>0</td>\n",
       "      <td>0</td>\n",
       "      <td>0</td>\n",
       "      <td>0</td>\n",
       "      <td>0</td>\n",
       "      <td>0</td>\n",
       "      <td>0</td>\n",
       "      <td>0</td>\n",
       "      <td>0</td>\n",
       "      <td>0</td>\n",
       "      <td>0</td>\n",
       "      <td>0</td>\n",
       "      <td>0</td>\n",
       "      <td>0</td>\n",
       "      <td>0</td>\n",
       "      <td>0</td>\n",
       "      <td>0</td>\n",
       "      <td>0</td>\n",
       "      <td>0</td>\n",
       "      <td>0</td>\n",
       "      <td>0</td>\n",
       "      <td>0</td>\n",
       "      <td>0</td>\n",
       "      <td>0</td>\n",
       "      <td>0</td>\n",
       "      <td>0</td>\n",
       "      <td>0</td>\n",
       "      <td>0</td>\n",
       "      <td>0</td>\n",
       "      <td>0</td>\n",
       "      <td>0</td>\n",
       "      <td>0</td>\n",
       "      <td>...</td>\n",
       "      <td>0</td>\n",
       "      <td>0</td>\n",
       "      <td>0</td>\n",
       "      <td>0</td>\n",
       "      <td>0</td>\n",
       "      <td>0</td>\n",
       "      <td>0</td>\n",
       "      <td>0</td>\n",
       "      <td>0</td>\n",
       "      <td>0</td>\n",
       "      <td>0</td>\n",
       "      <td>0</td>\n",
       "      <td>0</td>\n",
       "      <td>0</td>\n",
       "      <td>0</td>\n",
       "      <td>0</td>\n",
       "      <td>0</td>\n",
       "      <td>0</td>\n",
       "      <td>0</td>\n",
       "      <td>0</td>\n",
       "      <td>0</td>\n",
       "      <td>0</td>\n",
       "      <td>0</td>\n",
       "      <td>0</td>\n",
       "      <td>0</td>\n",
       "      <td>0</td>\n",
       "      <td>0</td>\n",
       "      <td>0</td>\n",
       "      <td>0</td>\n",
       "      <td>0</td>\n",
       "      <td>0</td>\n",
       "      <td>0</td>\n",
       "      <td>0</td>\n",
       "      <td>0</td>\n",
       "      <td>0</td>\n",
       "      <td>0</td>\n",
       "      <td>0</td>\n",
       "      <td>0</td>\n",
       "      <td>0</td>\n",
       "      <td>0</td>\n",
       "    </tr>\n",
       "    <tr>\n",
       "      <th>...</th>\n",
       "      <td>...</td>\n",
       "      <td>...</td>\n",
       "      <td>...</td>\n",
       "      <td>...</td>\n",
       "      <td>...</td>\n",
       "      <td>...</td>\n",
       "      <td>...</td>\n",
       "      <td>...</td>\n",
       "      <td>...</td>\n",
       "      <td>...</td>\n",
       "      <td>...</td>\n",
       "      <td>...</td>\n",
       "      <td>...</td>\n",
       "      <td>...</td>\n",
       "      <td>...</td>\n",
       "      <td>...</td>\n",
       "      <td>...</td>\n",
       "      <td>...</td>\n",
       "      <td>...</td>\n",
       "      <td>...</td>\n",
       "      <td>...</td>\n",
       "      <td>...</td>\n",
       "      <td>...</td>\n",
       "      <td>...</td>\n",
       "      <td>...</td>\n",
       "      <td>...</td>\n",
       "      <td>...</td>\n",
       "      <td>...</td>\n",
       "      <td>...</td>\n",
       "      <td>...</td>\n",
       "      <td>...</td>\n",
       "      <td>...</td>\n",
       "      <td>...</td>\n",
       "      <td>...</td>\n",
       "      <td>...</td>\n",
       "      <td>...</td>\n",
       "      <td>...</td>\n",
       "      <td>...</td>\n",
       "      <td>...</td>\n",
       "      <td>...</td>\n",
       "      <td>...</td>\n",
       "      <td>...</td>\n",
       "      <td>...</td>\n",
       "      <td>...</td>\n",
       "      <td>...</td>\n",
       "      <td>...</td>\n",
       "      <td>...</td>\n",
       "      <td>...</td>\n",
       "      <td>...</td>\n",
       "      <td>...</td>\n",
       "      <td>...</td>\n",
       "      <td>...</td>\n",
       "      <td>...</td>\n",
       "      <td>...</td>\n",
       "      <td>...</td>\n",
       "      <td>...</td>\n",
       "      <td>...</td>\n",
       "      <td>...</td>\n",
       "      <td>...</td>\n",
       "      <td>...</td>\n",
       "      <td>...</td>\n",
       "      <td>...</td>\n",
       "      <td>...</td>\n",
       "      <td>...</td>\n",
       "      <td>...</td>\n",
       "      <td>...</td>\n",
       "      <td>...</td>\n",
       "      <td>...</td>\n",
       "      <td>...</td>\n",
       "      <td>...</td>\n",
       "      <td>...</td>\n",
       "      <td>...</td>\n",
       "      <td>...</td>\n",
       "      <td>...</td>\n",
       "      <td>...</td>\n",
       "      <td>...</td>\n",
       "      <td>...</td>\n",
       "      <td>...</td>\n",
       "      <td>...</td>\n",
       "      <td>...</td>\n",
       "      <td>...</td>\n",
       "    </tr>\n",
       "    <tr>\n",
       "      <th>895</th>\n",
       "      <td>0</td>\n",
       "      <td>0</td>\n",
       "      <td>0</td>\n",
       "      <td>0</td>\n",
       "      <td>0</td>\n",
       "      <td>0</td>\n",
       "      <td>0</td>\n",
       "      <td>0</td>\n",
       "      <td>0</td>\n",
       "      <td>0</td>\n",
       "      <td>0</td>\n",
       "      <td>0</td>\n",
       "      <td>0</td>\n",
       "      <td>0</td>\n",
       "      <td>0</td>\n",
       "      <td>0</td>\n",
       "      <td>0</td>\n",
       "      <td>0</td>\n",
       "      <td>0</td>\n",
       "      <td>0</td>\n",
       "      <td>0</td>\n",
       "      <td>0</td>\n",
       "      <td>0</td>\n",
       "      <td>0</td>\n",
       "      <td>0</td>\n",
       "      <td>0</td>\n",
       "      <td>0</td>\n",
       "      <td>0</td>\n",
       "      <td>0</td>\n",
       "      <td>0</td>\n",
       "      <td>0</td>\n",
       "      <td>0</td>\n",
       "      <td>0</td>\n",
       "      <td>0</td>\n",
       "      <td>0</td>\n",
       "      <td>0</td>\n",
       "      <td>0</td>\n",
       "      <td>0</td>\n",
       "      <td>0</td>\n",
       "      <td>0</td>\n",
       "      <td>...</td>\n",
       "      <td>0</td>\n",
       "      <td>0</td>\n",
       "      <td>0</td>\n",
       "      <td>0</td>\n",
       "      <td>0</td>\n",
       "      <td>0</td>\n",
       "      <td>0</td>\n",
       "      <td>0</td>\n",
       "      <td>0</td>\n",
       "      <td>0</td>\n",
       "      <td>0</td>\n",
       "      <td>0</td>\n",
       "      <td>0</td>\n",
       "      <td>0</td>\n",
       "      <td>0</td>\n",
       "      <td>0</td>\n",
       "      <td>0</td>\n",
       "      <td>0</td>\n",
       "      <td>0</td>\n",
       "      <td>0</td>\n",
       "      <td>0</td>\n",
       "      <td>0</td>\n",
       "      <td>0</td>\n",
       "      <td>0</td>\n",
       "      <td>0</td>\n",
       "      <td>0</td>\n",
       "      <td>0</td>\n",
       "      <td>0</td>\n",
       "      <td>0</td>\n",
       "      <td>0</td>\n",
       "      <td>0</td>\n",
       "      <td>0</td>\n",
       "      <td>0</td>\n",
       "      <td>0</td>\n",
       "      <td>0</td>\n",
       "      <td>0</td>\n",
       "      <td>0</td>\n",
       "      <td>0</td>\n",
       "      <td>0</td>\n",
       "      <td>0</td>\n",
       "    </tr>\n",
       "    <tr>\n",
       "      <th>896</th>\n",
       "      <td>0</td>\n",
       "      <td>0</td>\n",
       "      <td>0</td>\n",
       "      <td>0</td>\n",
       "      <td>0</td>\n",
       "      <td>0</td>\n",
       "      <td>0</td>\n",
       "      <td>0</td>\n",
       "      <td>0</td>\n",
       "      <td>0</td>\n",
       "      <td>0</td>\n",
       "      <td>0</td>\n",
       "      <td>0</td>\n",
       "      <td>0</td>\n",
       "      <td>0</td>\n",
       "      <td>0</td>\n",
       "      <td>0</td>\n",
       "      <td>0</td>\n",
       "      <td>0</td>\n",
       "      <td>0</td>\n",
       "      <td>0</td>\n",
       "      <td>0</td>\n",
       "      <td>0</td>\n",
       "      <td>0</td>\n",
       "      <td>0</td>\n",
       "      <td>0</td>\n",
       "      <td>0</td>\n",
       "      <td>0</td>\n",
       "      <td>0</td>\n",
       "      <td>0</td>\n",
       "      <td>0</td>\n",
       "      <td>0</td>\n",
       "      <td>0</td>\n",
       "      <td>0</td>\n",
       "      <td>0</td>\n",
       "      <td>0</td>\n",
       "      <td>0</td>\n",
       "      <td>0</td>\n",
       "      <td>0</td>\n",
       "      <td>0</td>\n",
       "      <td>...</td>\n",
       "      <td>0</td>\n",
       "      <td>0</td>\n",
       "      <td>0</td>\n",
       "      <td>0</td>\n",
       "      <td>0</td>\n",
       "      <td>0</td>\n",
       "      <td>0</td>\n",
       "      <td>0</td>\n",
       "      <td>0</td>\n",
       "      <td>0</td>\n",
       "      <td>0</td>\n",
       "      <td>0</td>\n",
       "      <td>0</td>\n",
       "      <td>0</td>\n",
       "      <td>0</td>\n",
       "      <td>0</td>\n",
       "      <td>0</td>\n",
       "      <td>0</td>\n",
       "      <td>0</td>\n",
       "      <td>0</td>\n",
       "      <td>0</td>\n",
       "      <td>0</td>\n",
       "      <td>0</td>\n",
       "      <td>0</td>\n",
       "      <td>0</td>\n",
       "      <td>0</td>\n",
       "      <td>0</td>\n",
       "      <td>0</td>\n",
       "      <td>0</td>\n",
       "      <td>0</td>\n",
       "      <td>0</td>\n",
       "      <td>0</td>\n",
       "      <td>0</td>\n",
       "      <td>0</td>\n",
       "      <td>0</td>\n",
       "      <td>0</td>\n",
       "      <td>0</td>\n",
       "      <td>0</td>\n",
       "      <td>0</td>\n",
       "      <td>0</td>\n",
       "    </tr>\n",
       "    <tr>\n",
       "      <th>897</th>\n",
       "      <td>0</td>\n",
       "      <td>0</td>\n",
       "      <td>0</td>\n",
       "      <td>0</td>\n",
       "      <td>0</td>\n",
       "      <td>0</td>\n",
       "      <td>0</td>\n",
       "      <td>0</td>\n",
       "      <td>0</td>\n",
       "      <td>0</td>\n",
       "      <td>0</td>\n",
       "      <td>0</td>\n",
       "      <td>0</td>\n",
       "      <td>0</td>\n",
       "      <td>0</td>\n",
       "      <td>0</td>\n",
       "      <td>0</td>\n",
       "      <td>0</td>\n",
       "      <td>0</td>\n",
       "      <td>0</td>\n",
       "      <td>0</td>\n",
       "      <td>0</td>\n",
       "      <td>0</td>\n",
       "      <td>0</td>\n",
       "      <td>0</td>\n",
       "      <td>0</td>\n",
       "      <td>0</td>\n",
       "      <td>0</td>\n",
       "      <td>0</td>\n",
       "      <td>0</td>\n",
       "      <td>0</td>\n",
       "      <td>0</td>\n",
       "      <td>0</td>\n",
       "      <td>0</td>\n",
       "      <td>0</td>\n",
       "      <td>0</td>\n",
       "      <td>0</td>\n",
       "      <td>0</td>\n",
       "      <td>0</td>\n",
       "      <td>0</td>\n",
       "      <td>...</td>\n",
       "      <td>0</td>\n",
       "      <td>0</td>\n",
       "      <td>0</td>\n",
       "      <td>0</td>\n",
       "      <td>0</td>\n",
       "      <td>0</td>\n",
       "      <td>1</td>\n",
       "      <td>0</td>\n",
       "      <td>0</td>\n",
       "      <td>0</td>\n",
       "      <td>0</td>\n",
       "      <td>0</td>\n",
       "      <td>0</td>\n",
       "      <td>0</td>\n",
       "      <td>0</td>\n",
       "      <td>0</td>\n",
       "      <td>0</td>\n",
       "      <td>0</td>\n",
       "      <td>0</td>\n",
       "      <td>0</td>\n",
       "      <td>0</td>\n",
       "      <td>0</td>\n",
       "      <td>0</td>\n",
       "      <td>0</td>\n",
       "      <td>0</td>\n",
       "      <td>0</td>\n",
       "      <td>0</td>\n",
       "      <td>0</td>\n",
       "      <td>0</td>\n",
       "      <td>0</td>\n",
       "      <td>0</td>\n",
       "      <td>0</td>\n",
       "      <td>0</td>\n",
       "      <td>0</td>\n",
       "      <td>0</td>\n",
       "      <td>0</td>\n",
       "      <td>0</td>\n",
       "      <td>0</td>\n",
       "      <td>0</td>\n",
       "      <td>0</td>\n",
       "    </tr>\n",
       "    <tr>\n",
       "      <th>898</th>\n",
       "      <td>0</td>\n",
       "      <td>0</td>\n",
       "      <td>0</td>\n",
       "      <td>0</td>\n",
       "      <td>0</td>\n",
       "      <td>0</td>\n",
       "      <td>0</td>\n",
       "      <td>0</td>\n",
       "      <td>0</td>\n",
       "      <td>0</td>\n",
       "      <td>0</td>\n",
       "      <td>0</td>\n",
       "      <td>0</td>\n",
       "      <td>0</td>\n",
       "      <td>0</td>\n",
       "      <td>0</td>\n",
       "      <td>0</td>\n",
       "      <td>0</td>\n",
       "      <td>0</td>\n",
       "      <td>0</td>\n",
       "      <td>0</td>\n",
       "      <td>0</td>\n",
       "      <td>0</td>\n",
       "      <td>0</td>\n",
       "      <td>0</td>\n",
       "      <td>0</td>\n",
       "      <td>0</td>\n",
       "      <td>0</td>\n",
       "      <td>0</td>\n",
       "      <td>0</td>\n",
       "      <td>0</td>\n",
       "      <td>0</td>\n",
       "      <td>0</td>\n",
       "      <td>0</td>\n",
       "      <td>0</td>\n",
       "      <td>0</td>\n",
       "      <td>0</td>\n",
       "      <td>0</td>\n",
       "      <td>0</td>\n",
       "      <td>0</td>\n",
       "      <td>...</td>\n",
       "      <td>0</td>\n",
       "      <td>0</td>\n",
       "      <td>0</td>\n",
       "      <td>0</td>\n",
       "      <td>0</td>\n",
       "      <td>0</td>\n",
       "      <td>0</td>\n",
       "      <td>0</td>\n",
       "      <td>0</td>\n",
       "      <td>0</td>\n",
       "      <td>0</td>\n",
       "      <td>0</td>\n",
       "      <td>0</td>\n",
       "      <td>0</td>\n",
       "      <td>0</td>\n",
       "      <td>0</td>\n",
       "      <td>0</td>\n",
       "      <td>0</td>\n",
       "      <td>0</td>\n",
       "      <td>0</td>\n",
       "      <td>0</td>\n",
       "      <td>0</td>\n",
       "      <td>0</td>\n",
       "      <td>0</td>\n",
       "      <td>0</td>\n",
       "      <td>0</td>\n",
       "      <td>0</td>\n",
       "      <td>0</td>\n",
       "      <td>0</td>\n",
       "      <td>0</td>\n",
       "      <td>0</td>\n",
       "      <td>0</td>\n",
       "      <td>0</td>\n",
       "      <td>0</td>\n",
       "      <td>0</td>\n",
       "      <td>0</td>\n",
       "      <td>0</td>\n",
       "      <td>0</td>\n",
       "      <td>0</td>\n",
       "      <td>0</td>\n",
       "    </tr>\n",
       "    <tr>\n",
       "      <th>899</th>\n",
       "      <td>0</td>\n",
       "      <td>0</td>\n",
       "      <td>0</td>\n",
       "      <td>0</td>\n",
       "      <td>0</td>\n",
       "      <td>0</td>\n",
       "      <td>0</td>\n",
       "      <td>0</td>\n",
       "      <td>0</td>\n",
       "      <td>0</td>\n",
       "      <td>0</td>\n",
       "      <td>0</td>\n",
       "      <td>0</td>\n",
       "      <td>0</td>\n",
       "      <td>0</td>\n",
       "      <td>0</td>\n",
       "      <td>0</td>\n",
       "      <td>0</td>\n",
       "      <td>0</td>\n",
       "      <td>0</td>\n",
       "      <td>0</td>\n",
       "      <td>0</td>\n",
       "      <td>0</td>\n",
       "      <td>0</td>\n",
       "      <td>0</td>\n",
       "      <td>0</td>\n",
       "      <td>0</td>\n",
       "      <td>0</td>\n",
       "      <td>0</td>\n",
       "      <td>0</td>\n",
       "      <td>0</td>\n",
       "      <td>0</td>\n",
       "      <td>0</td>\n",
       "      <td>0</td>\n",
       "      <td>0</td>\n",
       "      <td>0</td>\n",
       "      <td>0</td>\n",
       "      <td>0</td>\n",
       "      <td>0</td>\n",
       "      <td>0</td>\n",
       "      <td>...</td>\n",
       "      <td>0</td>\n",
       "      <td>0</td>\n",
       "      <td>0</td>\n",
       "      <td>0</td>\n",
       "      <td>0</td>\n",
       "      <td>0</td>\n",
       "      <td>0</td>\n",
       "      <td>0</td>\n",
       "      <td>0</td>\n",
       "      <td>0</td>\n",
       "      <td>0</td>\n",
       "      <td>0</td>\n",
       "      <td>0</td>\n",
       "      <td>0</td>\n",
       "      <td>0</td>\n",
       "      <td>0</td>\n",
       "      <td>0</td>\n",
       "      <td>0</td>\n",
       "      <td>0</td>\n",
       "      <td>0</td>\n",
       "      <td>0</td>\n",
       "      <td>0</td>\n",
       "      <td>0</td>\n",
       "      <td>0</td>\n",
       "      <td>0</td>\n",
       "      <td>0</td>\n",
       "      <td>0</td>\n",
       "      <td>0</td>\n",
       "      <td>0</td>\n",
       "      <td>0</td>\n",
       "      <td>0</td>\n",
       "      <td>0</td>\n",
       "      <td>0</td>\n",
       "      <td>0</td>\n",
       "      <td>0</td>\n",
       "      <td>0</td>\n",
       "      <td>0</td>\n",
       "      <td>0</td>\n",
       "      <td>0</td>\n",
       "      <td>0</td>\n",
       "    </tr>\n",
       "  </tbody>\n",
       "</table>\n",
       "<p>900 rows × 3417 columns</p>\n",
       "</div>"
      ],
      "text/plain": [
       "     002  011010  07  0rp  ...  zarazettirazr  zarazettirazz  zippermouth  zona\n",
       "0      0       0   0    0  ...              0              0            0     0\n",
       "1      0       0   0    0  ...              0              0            0     0\n",
       "2      0       0   0    0  ...              0              0            0     0\n",
       "3      0       0   0    0  ...              0              0            0     0\n",
       "4      0       0   0    0  ...              0              0            0     0\n",
       "..   ...     ...  ..  ...  ...            ...            ...          ...   ...\n",
       "895    0       0   0    0  ...              0              0            0     0\n",
       "896    0       0   0    0  ...              0              0            0     0\n",
       "897    0       0   0    0  ...              0              0            0     0\n",
       "898    0       0   0    0  ...              0              0            0     0\n",
       "899    0       0   0    0  ...              0              0            0     0\n",
       "\n",
       "[900 rows x 3417 columns]"
      ]
     },
     "execution_count": 38,
     "metadata": {
      "tags": []
     },
     "output_type": "execute_result"
    }
   ],
   "source": [
    "X_sentence_df"
   ]
  },
  {
   "cell_type": "markdown",
   "metadata": {
    "id": "IOEUtCGGPhPw"
   },
   "source": [
    "### b. TF-IDF\n",
    "\n",
    "Algoritma TF-IDF (Term Frequency – Inverse Document Frequency) adalah salah satu algoritma yang dapat digunakan untuk menganalisa hubungan antara sebuah frase/kalimat dengan sekumpulan dokumen. Contoh yang dibahas kali ini adalah mengenai penentuan urutan peringkat data berdasarkan query yang digunakan.\n",
    "Inti utama dari algoritma ini adalah melakukan perhitungan nilai TF dan nilai IDF dari sebuah setiap kata kunci terhadap masing-masing dokumen. Nilai TF dihitung dengan rumus"
   ]
  },
  {
   "cell_type": "markdown",
   "metadata": {
    "id": "dwtKJnW-PhPx"
   },
   "source": [
    "**TF = jumlah frekuensi kata terpilih / jumlah kata**"
   ]
  },
  {
   "cell_type": "markdown",
   "metadata": {
    "id": "DQ9R7AGlPhPx"
   },
   "source": [
    "dan nilai IDF dihitung dengan rumus "
   ]
  },
  {
   "cell_type": "markdown",
   "metadata": {
    "id": "oPBoIu5qPhPx"
   },
   "source": [
    "**IDF = log(jumlah dokumen / jumlah frekuensi kata terpilih)**"
   ]
  },
  {
   "cell_type": "markdown",
   "metadata": {
    "id": "6ev4aC90PhPy"
   },
   "source": [
    "Selanjutnya adalah melakukan perkalian antara nilai TF dan IDF untuk mendapatkan jawaban akhir."
   ]
  },
  {
   "cell_type": "markdown",
   "metadata": {
    "id": "xtDja4uJebud"
   },
   "source": [
    "![Tf-idf 1.png](data:image/png;base64,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)"
   ]
  },
  {
   "cell_type": "markdown",
   "metadata": {
    "id": "eKpsFIPoeey6"
   },
   "source": [
    "![Tf-idf2.png](data:image/png;base64,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)"
   ]
  },
  {
   "cell_type": "code",
   "execution_count": null,
   "metadata": {
    "ExecuteTime": {
     "end_time": "2021-07-22T09:55:41.019941Z",
     "start_time": "2021-07-22T09:55:40.999937Z"
    },
    "id": "_2_9KwwDPhPy"
   },
   "outputs": [],
   "source": [
    "# TfidfVectorizer\n",
    "\n",
    "tfidf = TfidfVectorizer()\n",
    "X2_sentence = tfidf.fit_transform(df['StopwordsIndonesianSastrawi'])"
   ]
  },
  {
   "cell_type": "code",
   "execution_count": null,
   "metadata": {
    "ExecuteTime": {
     "end_time": "2021-07-22T09:55:48.916327Z",
     "start_time": "2021-07-22T09:55:48.902463Z"
    },
    "id": "8AiJV8SLPhPz"
   },
   "outputs": [],
   "source": [
    "X2_sentence_df = pd.DataFrame(X2_sentence.toarray(), columns = tfidf.get_feature_names())"
   ]
  },
  {
   "cell_type": "code",
   "execution_count": null,
   "metadata": {
    "ExecuteTime": {
     "end_time": "2021-07-22T09:55:52.872220Z",
     "start_time": "2021-07-22T09:55:52.837212Z"
    },
    "colab": {
     "base_uri": "https://localhost:8080/",
     "height": 439
    },
    "id": "GaPKAgcZPhPz",
    "outputId": "5b2677d5-7f8c-4ebe-f8f2-ab6e47274497"
   },
   "outputs": [
    {
     "data": {
      "text/html": [
       "<div>\n",
       "<style scoped>\n",
       "    .dataframe tbody tr th:only-of-type {\n",
       "        vertical-align: middle;\n",
       "    }\n",
       "\n",
       "    .dataframe tbody tr th {\n",
       "        vertical-align: top;\n",
       "    }\n",
       "\n",
       "    .dataframe thead th {\n",
       "        text-align: right;\n",
       "    }\n",
       "</style>\n",
       "<table border=\"1\" class=\"dataframe\">\n",
       "  <thead>\n",
       "    <tr style=\"text-align: right;\">\n",
       "      <th></th>\n",
       "      <th>002</th>\n",
       "      <th>011010</th>\n",
       "      <th>07</th>\n",
       "      <th>0rp</th>\n",
       "      <th>100</th>\n",
       "      <th>1000</th>\n",
       "      <th>1000lilin</th>\n",
       "      <th>112</th>\n",
       "      <th>12</th>\n",
       "      <th>13</th>\n",
       "      <th>1435</th>\n",
       "      <th>151</th>\n",
       "      <th>17</th>\n",
       "      <th>19</th>\n",
       "      <th>19april2017</th>\n",
       "      <th>1kenape</th>\n",
       "      <th>1milyar</th>\n",
       "      <th>1milyarrw</th>\n",
       "      <th>200000</th>\n",
       "      <th>2016</th>\n",
       "      <th>2017</th>\n",
       "      <th>20172022</th>\n",
       "      <th>2018</th>\n",
       "      <th>2019</th>\n",
       "      <th>23</th>\n",
       "      <th>25x</th>\n",
       "      <th>2600</th>\n",
       "      <th>28</th>\n",
       "      <th>2mesti</th>\n",
       "      <th>2putaran</th>\n",
       "      <th>300</th>\n",
       "      <th>30th</th>\n",
       "      <th>350jt</th>\n",
       "      <th>3hari</th>\n",
       "      <th>3x</th>\n",
       "      <th>3ya3</th>\n",
       "      <th>4000</th>\n",
       "      <th>42</th>\n",
       "      <th>52</th>\n",
       "      <th>5796</th>\n",
       "      <th>...</th>\n",
       "      <th>wiiih</th>\n",
       "      <th>wilayah</th>\n",
       "      <th>wingstourinjakarta</th>\n",
       "      <th>wirausaha</th>\n",
       "      <th>wisata</th>\n",
       "      <th>wisdom</th>\n",
       "      <th>with</th>\n",
       "      <th>without</th>\n",
       "      <th>wkwkwk</th>\n",
       "      <th>wkwkwkface</th>\n",
       "      <th>wkwkwkwk</th>\n",
       "      <th>wkwkwkwkkwkk</th>\n",
       "      <th>wpap</th>\n",
       "      <th>yaa</th>\n",
       "      <th>yaaa</th>\n",
       "      <th>yaaaa</th>\n",
       "      <th>yaalap</th>\n",
       "      <th>yah</th>\n",
       "      <th>yahudi</th>\n",
       "      <th>yak</th>\n",
       "      <th>yangbikinberantem</th>\n",
       "      <th>yasaveahok</th>\n",
       "      <th>ye</th>\n",
       "      <th>yee1dan3</th>\n",
       "      <th>yep</th>\n",
       "      <th>yes</th>\n",
       "      <th>yg</th>\n",
       "      <th>yme</th>\n",
       "      <th>ynwa</th>\n",
       "      <th>youtube</th>\n",
       "      <th>youtubebxrzd69u61a</th>\n",
       "      <th>yra</th>\n",
       "      <th>yudhoyono</th>\n",
       "      <th>yuk</th>\n",
       "      <th>yusuf</th>\n",
       "      <th>zalim</th>\n",
       "      <th>zarazettirazr</th>\n",
       "      <th>zarazettirazz</th>\n",
       "      <th>zippermouth</th>\n",
       "      <th>zona</th>\n",
       "    </tr>\n",
       "  </thead>\n",
       "  <tbody>\n",
       "    <tr>\n",
       "      <th>0</th>\n",
       "      <td>0.0</td>\n",
       "      <td>0.0</td>\n",
       "      <td>0.0</td>\n",
       "      <td>0.0</td>\n",
       "      <td>0.0</td>\n",
       "      <td>0.0</td>\n",
       "      <td>0.0</td>\n",
       "      <td>0.0</td>\n",
       "      <td>0.0</td>\n",
       "      <td>0.0</td>\n",
       "      <td>0.0</td>\n",
       "      <td>0.0</td>\n",
       "      <td>0.0</td>\n",
       "      <td>0.0</td>\n",
       "      <td>0.0</td>\n",
       "      <td>0.0</td>\n",
       "      <td>0.00000</td>\n",
       "      <td>0.0</td>\n",
       "      <td>0.0</td>\n",
       "      <td>0.0</td>\n",
       "      <td>0.0</td>\n",
       "      <td>0.0</td>\n",
       "      <td>0.0</td>\n",
       "      <td>0.0</td>\n",
       "      <td>0.0</td>\n",
       "      <td>0.0</td>\n",
       "      <td>0.0</td>\n",
       "      <td>0.0</td>\n",
       "      <td>0.0</td>\n",
       "      <td>0.0</td>\n",
       "      <td>0.0</td>\n",
       "      <td>0.0</td>\n",
       "      <td>0.0</td>\n",
       "      <td>0.0</td>\n",
       "      <td>0.0</td>\n",
       "      <td>0.0</td>\n",
       "      <td>0.0</td>\n",
       "      <td>0.0</td>\n",
       "      <td>0.0</td>\n",
       "      <td>0.0</td>\n",
       "      <td>...</td>\n",
       "      <td>0.0</td>\n",
       "      <td>0.0</td>\n",
       "      <td>0.0</td>\n",
       "      <td>0.0</td>\n",
       "      <td>0.0</td>\n",
       "      <td>0.0</td>\n",
       "      <td>0.000000</td>\n",
       "      <td>0.0</td>\n",
       "      <td>0.0</td>\n",
       "      <td>0.0</td>\n",
       "      <td>0.000000</td>\n",
       "      <td>0.0</td>\n",
       "      <td>0.0</td>\n",
       "      <td>0.0</td>\n",
       "      <td>0.0</td>\n",
       "      <td>0.0</td>\n",
       "      <td>0.000000</td>\n",
       "      <td>0.0</td>\n",
       "      <td>0.0</td>\n",
       "      <td>0.0</td>\n",
       "      <td>0.0</td>\n",
       "      <td>0.0</td>\n",
       "      <td>0.0</td>\n",
       "      <td>0.0</td>\n",
       "      <td>0.0</td>\n",
       "      <td>0.0</td>\n",
       "      <td>0.0</td>\n",
       "      <td>0.0</td>\n",
       "      <td>0.0</td>\n",
       "      <td>0.0</td>\n",
       "      <td>0.0</td>\n",
       "      <td>0.0</td>\n",
       "      <td>0.0</td>\n",
       "      <td>0.0</td>\n",
       "      <td>0.0</td>\n",
       "      <td>0.0</td>\n",
       "      <td>0.0</td>\n",
       "      <td>0.0</td>\n",
       "      <td>0.0</td>\n",
       "      <td>0.0</td>\n",
       "    </tr>\n",
       "    <tr>\n",
       "      <th>1</th>\n",
       "      <td>0.0</td>\n",
       "      <td>0.0</td>\n",
       "      <td>0.0</td>\n",
       "      <td>0.0</td>\n",
       "      <td>0.0</td>\n",
       "      <td>0.0</td>\n",
       "      <td>0.0</td>\n",
       "      <td>0.0</td>\n",
       "      <td>0.0</td>\n",
       "      <td>0.0</td>\n",
       "      <td>0.0</td>\n",
       "      <td>0.0</td>\n",
       "      <td>0.0</td>\n",
       "      <td>0.0</td>\n",
       "      <td>0.0</td>\n",
       "      <td>0.0</td>\n",
       "      <td>0.00000</td>\n",
       "      <td>0.0</td>\n",
       "      <td>0.0</td>\n",
       "      <td>0.0</td>\n",
       "      <td>0.0</td>\n",
       "      <td>0.0</td>\n",
       "      <td>0.0</td>\n",
       "      <td>0.0</td>\n",
       "      <td>0.0</td>\n",
       "      <td>0.0</td>\n",
       "      <td>0.0</td>\n",
       "      <td>0.0</td>\n",
       "      <td>0.0</td>\n",
       "      <td>0.0</td>\n",
       "      <td>0.0</td>\n",
       "      <td>0.0</td>\n",
       "      <td>0.0</td>\n",
       "      <td>0.0</td>\n",
       "      <td>0.0</td>\n",
       "      <td>0.0</td>\n",
       "      <td>0.0</td>\n",
       "      <td>0.0</td>\n",
       "      <td>0.0</td>\n",
       "      <td>0.0</td>\n",
       "      <td>...</td>\n",
       "      <td>0.0</td>\n",
       "      <td>0.0</td>\n",
       "      <td>0.0</td>\n",
       "      <td>0.0</td>\n",
       "      <td>0.0</td>\n",
       "      <td>0.0</td>\n",
       "      <td>0.000000</td>\n",
       "      <td>0.0</td>\n",
       "      <td>0.0</td>\n",
       "      <td>0.0</td>\n",
       "      <td>0.419798</td>\n",
       "      <td>0.0</td>\n",
       "      <td>0.0</td>\n",
       "      <td>0.0</td>\n",
       "      <td>0.0</td>\n",
       "      <td>0.0</td>\n",
       "      <td>0.419798</td>\n",
       "      <td>0.0</td>\n",
       "      <td>0.0</td>\n",
       "      <td>0.0</td>\n",
       "      <td>0.0</td>\n",
       "      <td>0.0</td>\n",
       "      <td>0.0</td>\n",
       "      <td>0.0</td>\n",
       "      <td>0.0</td>\n",
       "      <td>0.0</td>\n",
       "      <td>0.0</td>\n",
       "      <td>0.0</td>\n",
       "      <td>0.0</td>\n",
       "      <td>0.0</td>\n",
       "      <td>0.0</td>\n",
       "      <td>0.0</td>\n",
       "      <td>0.0</td>\n",
       "      <td>0.0</td>\n",
       "      <td>0.0</td>\n",
       "      <td>0.0</td>\n",
       "      <td>0.0</td>\n",
       "      <td>0.0</td>\n",
       "      <td>0.0</td>\n",
       "      <td>0.0</td>\n",
       "    </tr>\n",
       "    <tr>\n",
       "      <th>2</th>\n",
       "      <td>0.0</td>\n",
       "      <td>0.0</td>\n",
       "      <td>0.0</td>\n",
       "      <td>0.0</td>\n",
       "      <td>0.0</td>\n",
       "      <td>0.0</td>\n",
       "      <td>0.0</td>\n",
       "      <td>0.0</td>\n",
       "      <td>0.0</td>\n",
       "      <td>0.0</td>\n",
       "      <td>0.0</td>\n",
       "      <td>0.0</td>\n",
       "      <td>0.0</td>\n",
       "      <td>0.0</td>\n",
       "      <td>0.0</td>\n",
       "      <td>0.0</td>\n",
       "      <td>0.00000</td>\n",
       "      <td>0.0</td>\n",
       "      <td>0.0</td>\n",
       "      <td>0.0</td>\n",
       "      <td>0.0</td>\n",
       "      <td>0.0</td>\n",
       "      <td>0.0</td>\n",
       "      <td>0.0</td>\n",
       "      <td>0.0</td>\n",
       "      <td>0.0</td>\n",
       "      <td>0.0</td>\n",
       "      <td>0.0</td>\n",
       "      <td>0.0</td>\n",
       "      <td>0.0</td>\n",
       "      <td>0.0</td>\n",
       "      <td>0.0</td>\n",
       "      <td>0.0</td>\n",
       "      <td>0.0</td>\n",
       "      <td>0.0</td>\n",
       "      <td>0.0</td>\n",
       "      <td>0.0</td>\n",
       "      <td>0.0</td>\n",
       "      <td>0.0</td>\n",
       "      <td>0.0</td>\n",
       "      <td>...</td>\n",
       "      <td>0.0</td>\n",
       "      <td>0.0</td>\n",
       "      <td>0.0</td>\n",
       "      <td>0.0</td>\n",
       "      <td>0.0</td>\n",
       "      <td>0.0</td>\n",
       "      <td>0.000000</td>\n",
       "      <td>0.0</td>\n",
       "      <td>0.0</td>\n",
       "      <td>0.0</td>\n",
       "      <td>0.000000</td>\n",
       "      <td>0.0</td>\n",
       "      <td>0.0</td>\n",
       "      <td>0.0</td>\n",
       "      <td>0.0</td>\n",
       "      <td>0.0</td>\n",
       "      <td>0.000000</td>\n",
       "      <td>0.0</td>\n",
       "      <td>0.0</td>\n",
       "      <td>0.0</td>\n",
       "      <td>0.0</td>\n",
       "      <td>0.0</td>\n",
       "      <td>0.0</td>\n",
       "      <td>0.0</td>\n",
       "      <td>0.0</td>\n",
       "      <td>0.0</td>\n",
       "      <td>0.0</td>\n",
       "      <td>0.0</td>\n",
       "      <td>0.0</td>\n",
       "      <td>0.0</td>\n",
       "      <td>0.0</td>\n",
       "      <td>0.0</td>\n",
       "      <td>0.0</td>\n",
       "      <td>0.0</td>\n",
       "      <td>0.0</td>\n",
       "      <td>0.0</td>\n",
       "      <td>0.0</td>\n",
       "      <td>0.0</td>\n",
       "      <td>0.0</td>\n",
       "      <td>0.0</td>\n",
       "    </tr>\n",
       "    <tr>\n",
       "      <th>3</th>\n",
       "      <td>0.0</td>\n",
       "      <td>0.0</td>\n",
       "      <td>0.0</td>\n",
       "      <td>0.0</td>\n",
       "      <td>0.0</td>\n",
       "      <td>0.0</td>\n",
       "      <td>0.0</td>\n",
       "      <td>0.0</td>\n",
       "      <td>0.0</td>\n",
       "      <td>0.0</td>\n",
       "      <td>0.0</td>\n",
       "      <td>0.0</td>\n",
       "      <td>0.0</td>\n",
       "      <td>0.0</td>\n",
       "      <td>0.0</td>\n",
       "      <td>0.0</td>\n",
       "      <td>0.31192</td>\n",
       "      <td>0.0</td>\n",
       "      <td>0.0</td>\n",
       "      <td>0.0</td>\n",
       "      <td>0.0</td>\n",
       "      <td>0.0</td>\n",
       "      <td>0.0</td>\n",
       "      <td>0.0</td>\n",
       "      <td>0.0</td>\n",
       "      <td>0.0</td>\n",
       "      <td>0.0</td>\n",
       "      <td>0.0</td>\n",
       "      <td>0.0</td>\n",
       "      <td>0.0</td>\n",
       "      <td>0.0</td>\n",
       "      <td>0.0</td>\n",
       "      <td>0.0</td>\n",
       "      <td>0.0</td>\n",
       "      <td>0.0</td>\n",
       "      <td>0.0</td>\n",
       "      <td>0.0</td>\n",
       "      <td>0.0</td>\n",
       "      <td>0.0</td>\n",
       "      <td>0.0</td>\n",
       "      <td>...</td>\n",
       "      <td>0.0</td>\n",
       "      <td>0.0</td>\n",
       "      <td>0.0</td>\n",
       "      <td>0.0</td>\n",
       "      <td>0.0</td>\n",
       "      <td>0.0</td>\n",
       "      <td>0.000000</td>\n",
       "      <td>0.0</td>\n",
       "      <td>0.0</td>\n",
       "      <td>0.0</td>\n",
       "      <td>0.000000</td>\n",
       "      <td>0.0</td>\n",
       "      <td>0.0</td>\n",
       "      <td>0.0</td>\n",
       "      <td>0.0</td>\n",
       "      <td>0.0</td>\n",
       "      <td>0.000000</td>\n",
       "      <td>0.0</td>\n",
       "      <td>0.0</td>\n",
       "      <td>0.0</td>\n",
       "      <td>0.0</td>\n",
       "      <td>0.0</td>\n",
       "      <td>0.0</td>\n",
       "      <td>0.0</td>\n",
       "      <td>0.0</td>\n",
       "      <td>0.0</td>\n",
       "      <td>0.0</td>\n",
       "      <td>0.0</td>\n",
       "      <td>0.0</td>\n",
       "      <td>0.0</td>\n",
       "      <td>0.0</td>\n",
       "      <td>0.0</td>\n",
       "      <td>0.0</td>\n",
       "      <td>0.0</td>\n",
       "      <td>0.0</td>\n",
       "      <td>0.0</td>\n",
       "      <td>0.0</td>\n",
       "      <td>0.0</td>\n",
       "      <td>0.0</td>\n",
       "      <td>0.0</td>\n",
       "    </tr>\n",
       "    <tr>\n",
       "      <th>4</th>\n",
       "      <td>0.0</td>\n",
       "      <td>0.0</td>\n",
       "      <td>0.0</td>\n",
       "      <td>0.0</td>\n",
       "      <td>0.0</td>\n",
       "      <td>0.0</td>\n",
       "      <td>0.0</td>\n",
       "      <td>0.0</td>\n",
       "      <td>0.0</td>\n",
       "      <td>0.0</td>\n",
       "      <td>0.0</td>\n",
       "      <td>0.0</td>\n",
       "      <td>0.0</td>\n",
       "      <td>0.0</td>\n",
       "      <td>0.0</td>\n",
       "      <td>0.0</td>\n",
       "      <td>0.00000</td>\n",
       "      <td>0.0</td>\n",
       "      <td>0.0</td>\n",
       "      <td>0.0</td>\n",
       "      <td>0.0</td>\n",
       "      <td>0.0</td>\n",
       "      <td>0.0</td>\n",
       "      <td>0.0</td>\n",
       "      <td>0.0</td>\n",
       "      <td>0.0</td>\n",
       "      <td>0.0</td>\n",
       "      <td>0.0</td>\n",
       "      <td>0.0</td>\n",
       "      <td>0.0</td>\n",
       "      <td>0.0</td>\n",
       "      <td>0.0</td>\n",
       "      <td>0.0</td>\n",
       "      <td>0.0</td>\n",
       "      <td>0.0</td>\n",
       "      <td>0.0</td>\n",
       "      <td>0.0</td>\n",
       "      <td>0.0</td>\n",
       "      <td>0.0</td>\n",
       "      <td>0.0</td>\n",
       "      <td>...</td>\n",
       "      <td>0.0</td>\n",
       "      <td>0.0</td>\n",
       "      <td>0.0</td>\n",
       "      <td>0.0</td>\n",
       "      <td>0.0</td>\n",
       "      <td>0.0</td>\n",
       "      <td>0.000000</td>\n",
       "      <td>0.0</td>\n",
       "      <td>0.0</td>\n",
       "      <td>0.0</td>\n",
       "      <td>0.000000</td>\n",
       "      <td>0.0</td>\n",
       "      <td>0.0</td>\n",
       "      <td>0.0</td>\n",
       "      <td>0.0</td>\n",
       "      <td>0.0</td>\n",
       "      <td>0.000000</td>\n",
       "      <td>0.0</td>\n",
       "      <td>0.0</td>\n",
       "      <td>0.0</td>\n",
       "      <td>0.0</td>\n",
       "      <td>0.0</td>\n",
       "      <td>0.0</td>\n",
       "      <td>0.0</td>\n",
       "      <td>0.0</td>\n",
       "      <td>0.0</td>\n",
       "      <td>0.0</td>\n",
       "      <td>0.0</td>\n",
       "      <td>0.0</td>\n",
       "      <td>0.0</td>\n",
       "      <td>0.0</td>\n",
       "      <td>0.0</td>\n",
       "      <td>0.0</td>\n",
       "      <td>0.0</td>\n",
       "      <td>0.0</td>\n",
       "      <td>0.0</td>\n",
       "      <td>0.0</td>\n",
       "      <td>0.0</td>\n",
       "      <td>0.0</td>\n",
       "      <td>0.0</td>\n",
       "    </tr>\n",
       "    <tr>\n",
       "      <th>...</th>\n",
       "      <td>...</td>\n",
       "      <td>...</td>\n",
       "      <td>...</td>\n",
       "      <td>...</td>\n",
       "      <td>...</td>\n",
       "      <td>...</td>\n",
       "      <td>...</td>\n",
       "      <td>...</td>\n",
       "      <td>...</td>\n",
       "      <td>...</td>\n",
       "      <td>...</td>\n",
       "      <td>...</td>\n",
       "      <td>...</td>\n",
       "      <td>...</td>\n",
       "      <td>...</td>\n",
       "      <td>...</td>\n",
       "      <td>...</td>\n",
       "      <td>...</td>\n",
       "      <td>...</td>\n",
       "      <td>...</td>\n",
       "      <td>...</td>\n",
       "      <td>...</td>\n",
       "      <td>...</td>\n",
       "      <td>...</td>\n",
       "      <td>...</td>\n",
       "      <td>...</td>\n",
       "      <td>...</td>\n",
       "      <td>...</td>\n",
       "      <td>...</td>\n",
       "      <td>...</td>\n",
       "      <td>...</td>\n",
       "      <td>...</td>\n",
       "      <td>...</td>\n",
       "      <td>...</td>\n",
       "      <td>...</td>\n",
       "      <td>...</td>\n",
       "      <td>...</td>\n",
       "      <td>...</td>\n",
       "      <td>...</td>\n",
       "      <td>...</td>\n",
       "      <td>...</td>\n",
       "      <td>...</td>\n",
       "      <td>...</td>\n",
       "      <td>...</td>\n",
       "      <td>...</td>\n",
       "      <td>...</td>\n",
       "      <td>...</td>\n",
       "      <td>...</td>\n",
       "      <td>...</td>\n",
       "      <td>...</td>\n",
       "      <td>...</td>\n",
       "      <td>...</td>\n",
       "      <td>...</td>\n",
       "      <td>...</td>\n",
       "      <td>...</td>\n",
       "      <td>...</td>\n",
       "      <td>...</td>\n",
       "      <td>...</td>\n",
       "      <td>...</td>\n",
       "      <td>...</td>\n",
       "      <td>...</td>\n",
       "      <td>...</td>\n",
       "      <td>...</td>\n",
       "      <td>...</td>\n",
       "      <td>...</td>\n",
       "      <td>...</td>\n",
       "      <td>...</td>\n",
       "      <td>...</td>\n",
       "      <td>...</td>\n",
       "      <td>...</td>\n",
       "      <td>...</td>\n",
       "      <td>...</td>\n",
       "      <td>...</td>\n",
       "      <td>...</td>\n",
       "      <td>...</td>\n",
       "      <td>...</td>\n",
       "      <td>...</td>\n",
       "      <td>...</td>\n",
       "      <td>...</td>\n",
       "      <td>...</td>\n",
       "      <td>...</td>\n",
       "    </tr>\n",
       "    <tr>\n",
       "      <th>895</th>\n",
       "      <td>0.0</td>\n",
       "      <td>0.0</td>\n",
       "      <td>0.0</td>\n",
       "      <td>0.0</td>\n",
       "      <td>0.0</td>\n",
       "      <td>0.0</td>\n",
       "      <td>0.0</td>\n",
       "      <td>0.0</td>\n",
       "      <td>0.0</td>\n",
       "      <td>0.0</td>\n",
       "      <td>0.0</td>\n",
       "      <td>0.0</td>\n",
       "      <td>0.0</td>\n",
       "      <td>0.0</td>\n",
       "      <td>0.0</td>\n",
       "      <td>0.0</td>\n",
       "      <td>0.00000</td>\n",
       "      <td>0.0</td>\n",
       "      <td>0.0</td>\n",
       "      <td>0.0</td>\n",
       "      <td>0.0</td>\n",
       "      <td>0.0</td>\n",
       "      <td>0.0</td>\n",
       "      <td>0.0</td>\n",
       "      <td>0.0</td>\n",
       "      <td>0.0</td>\n",
       "      <td>0.0</td>\n",
       "      <td>0.0</td>\n",
       "      <td>0.0</td>\n",
       "      <td>0.0</td>\n",
       "      <td>0.0</td>\n",
       "      <td>0.0</td>\n",
       "      <td>0.0</td>\n",
       "      <td>0.0</td>\n",
       "      <td>0.0</td>\n",
       "      <td>0.0</td>\n",
       "      <td>0.0</td>\n",
       "      <td>0.0</td>\n",
       "      <td>0.0</td>\n",
       "      <td>0.0</td>\n",
       "      <td>...</td>\n",
       "      <td>0.0</td>\n",
       "      <td>0.0</td>\n",
       "      <td>0.0</td>\n",
       "      <td>0.0</td>\n",
       "      <td>0.0</td>\n",
       "      <td>0.0</td>\n",
       "      <td>0.000000</td>\n",
       "      <td>0.0</td>\n",
       "      <td>0.0</td>\n",
       "      <td>0.0</td>\n",
       "      <td>0.000000</td>\n",
       "      <td>0.0</td>\n",
       "      <td>0.0</td>\n",
       "      <td>0.0</td>\n",
       "      <td>0.0</td>\n",
       "      <td>0.0</td>\n",
       "      <td>0.000000</td>\n",
       "      <td>0.0</td>\n",
       "      <td>0.0</td>\n",
       "      <td>0.0</td>\n",
       "      <td>0.0</td>\n",
       "      <td>0.0</td>\n",
       "      <td>0.0</td>\n",
       "      <td>0.0</td>\n",
       "      <td>0.0</td>\n",
       "      <td>0.0</td>\n",
       "      <td>0.0</td>\n",
       "      <td>0.0</td>\n",
       "      <td>0.0</td>\n",
       "      <td>0.0</td>\n",
       "      <td>0.0</td>\n",
       "      <td>0.0</td>\n",
       "      <td>0.0</td>\n",
       "      <td>0.0</td>\n",
       "      <td>0.0</td>\n",
       "      <td>0.0</td>\n",
       "      <td>0.0</td>\n",
       "      <td>0.0</td>\n",
       "      <td>0.0</td>\n",
       "      <td>0.0</td>\n",
       "    </tr>\n",
       "    <tr>\n",
       "      <th>896</th>\n",
       "      <td>0.0</td>\n",
       "      <td>0.0</td>\n",
       "      <td>0.0</td>\n",
       "      <td>0.0</td>\n",
       "      <td>0.0</td>\n",
       "      <td>0.0</td>\n",
       "      <td>0.0</td>\n",
       "      <td>0.0</td>\n",
       "      <td>0.0</td>\n",
       "      <td>0.0</td>\n",
       "      <td>0.0</td>\n",
       "      <td>0.0</td>\n",
       "      <td>0.0</td>\n",
       "      <td>0.0</td>\n",
       "      <td>0.0</td>\n",
       "      <td>0.0</td>\n",
       "      <td>0.00000</td>\n",
       "      <td>0.0</td>\n",
       "      <td>0.0</td>\n",
       "      <td>0.0</td>\n",
       "      <td>0.0</td>\n",
       "      <td>0.0</td>\n",
       "      <td>0.0</td>\n",
       "      <td>0.0</td>\n",
       "      <td>0.0</td>\n",
       "      <td>0.0</td>\n",
       "      <td>0.0</td>\n",
       "      <td>0.0</td>\n",
       "      <td>0.0</td>\n",
       "      <td>0.0</td>\n",
       "      <td>0.0</td>\n",
       "      <td>0.0</td>\n",
       "      <td>0.0</td>\n",
       "      <td>0.0</td>\n",
       "      <td>0.0</td>\n",
       "      <td>0.0</td>\n",
       "      <td>0.0</td>\n",
       "      <td>0.0</td>\n",
       "      <td>0.0</td>\n",
       "      <td>0.0</td>\n",
       "      <td>...</td>\n",
       "      <td>0.0</td>\n",
       "      <td>0.0</td>\n",
       "      <td>0.0</td>\n",
       "      <td>0.0</td>\n",
       "      <td>0.0</td>\n",
       "      <td>0.0</td>\n",
       "      <td>0.000000</td>\n",
       "      <td>0.0</td>\n",
       "      <td>0.0</td>\n",
       "      <td>0.0</td>\n",
       "      <td>0.000000</td>\n",
       "      <td>0.0</td>\n",
       "      <td>0.0</td>\n",
       "      <td>0.0</td>\n",
       "      <td>0.0</td>\n",
       "      <td>0.0</td>\n",
       "      <td>0.000000</td>\n",
       "      <td>0.0</td>\n",
       "      <td>0.0</td>\n",
       "      <td>0.0</td>\n",
       "      <td>0.0</td>\n",
       "      <td>0.0</td>\n",
       "      <td>0.0</td>\n",
       "      <td>0.0</td>\n",
       "      <td>0.0</td>\n",
       "      <td>0.0</td>\n",
       "      <td>0.0</td>\n",
       "      <td>0.0</td>\n",
       "      <td>0.0</td>\n",
       "      <td>0.0</td>\n",
       "      <td>0.0</td>\n",
       "      <td>0.0</td>\n",
       "      <td>0.0</td>\n",
       "      <td>0.0</td>\n",
       "      <td>0.0</td>\n",
       "      <td>0.0</td>\n",
       "      <td>0.0</td>\n",
       "      <td>0.0</td>\n",
       "      <td>0.0</td>\n",
       "      <td>0.0</td>\n",
       "    </tr>\n",
       "    <tr>\n",
       "      <th>897</th>\n",
       "      <td>0.0</td>\n",
       "      <td>0.0</td>\n",
       "      <td>0.0</td>\n",
       "      <td>0.0</td>\n",
       "      <td>0.0</td>\n",
       "      <td>0.0</td>\n",
       "      <td>0.0</td>\n",
       "      <td>0.0</td>\n",
       "      <td>0.0</td>\n",
       "      <td>0.0</td>\n",
       "      <td>0.0</td>\n",
       "      <td>0.0</td>\n",
       "      <td>0.0</td>\n",
       "      <td>0.0</td>\n",
       "      <td>0.0</td>\n",
       "      <td>0.0</td>\n",
       "      <td>0.00000</td>\n",
       "      <td>0.0</td>\n",
       "      <td>0.0</td>\n",
       "      <td>0.0</td>\n",
       "      <td>0.0</td>\n",
       "      <td>0.0</td>\n",
       "      <td>0.0</td>\n",
       "      <td>0.0</td>\n",
       "      <td>0.0</td>\n",
       "      <td>0.0</td>\n",
       "      <td>0.0</td>\n",
       "      <td>0.0</td>\n",
       "      <td>0.0</td>\n",
       "      <td>0.0</td>\n",
       "      <td>0.0</td>\n",
       "      <td>0.0</td>\n",
       "      <td>0.0</td>\n",
       "      <td>0.0</td>\n",
       "      <td>0.0</td>\n",
       "      <td>0.0</td>\n",
       "      <td>0.0</td>\n",
       "      <td>0.0</td>\n",
       "      <td>0.0</td>\n",
       "      <td>0.0</td>\n",
       "      <td>...</td>\n",
       "      <td>0.0</td>\n",
       "      <td>0.0</td>\n",
       "      <td>0.0</td>\n",
       "      <td>0.0</td>\n",
       "      <td>0.0</td>\n",
       "      <td>0.0</td>\n",
       "      <td>0.206831</td>\n",
       "      <td>0.0</td>\n",
       "      <td>0.0</td>\n",
       "      <td>0.0</td>\n",
       "      <td>0.000000</td>\n",
       "      <td>0.0</td>\n",
       "      <td>0.0</td>\n",
       "      <td>0.0</td>\n",
       "      <td>0.0</td>\n",
       "      <td>0.0</td>\n",
       "      <td>0.000000</td>\n",
       "      <td>0.0</td>\n",
       "      <td>0.0</td>\n",
       "      <td>0.0</td>\n",
       "      <td>0.0</td>\n",
       "      <td>0.0</td>\n",
       "      <td>0.0</td>\n",
       "      <td>0.0</td>\n",
       "      <td>0.0</td>\n",
       "      <td>0.0</td>\n",
       "      <td>0.0</td>\n",
       "      <td>0.0</td>\n",
       "      <td>0.0</td>\n",
       "      <td>0.0</td>\n",
       "      <td>0.0</td>\n",
       "      <td>0.0</td>\n",
       "      <td>0.0</td>\n",
       "      <td>0.0</td>\n",
       "      <td>0.0</td>\n",
       "      <td>0.0</td>\n",
       "      <td>0.0</td>\n",
       "      <td>0.0</td>\n",
       "      <td>0.0</td>\n",
       "      <td>0.0</td>\n",
       "    </tr>\n",
       "    <tr>\n",
       "      <th>898</th>\n",
       "      <td>0.0</td>\n",
       "      <td>0.0</td>\n",
       "      <td>0.0</td>\n",
       "      <td>0.0</td>\n",
       "      <td>0.0</td>\n",
       "      <td>0.0</td>\n",
       "      <td>0.0</td>\n",
       "      <td>0.0</td>\n",
       "      <td>0.0</td>\n",
       "      <td>0.0</td>\n",
       "      <td>0.0</td>\n",
       "      <td>0.0</td>\n",
       "      <td>0.0</td>\n",
       "      <td>0.0</td>\n",
       "      <td>0.0</td>\n",
       "      <td>0.0</td>\n",
       "      <td>0.00000</td>\n",
       "      <td>0.0</td>\n",
       "      <td>0.0</td>\n",
       "      <td>0.0</td>\n",
       "      <td>0.0</td>\n",
       "      <td>0.0</td>\n",
       "      <td>0.0</td>\n",
       "      <td>0.0</td>\n",
       "      <td>0.0</td>\n",
       "      <td>0.0</td>\n",
       "      <td>0.0</td>\n",
       "      <td>0.0</td>\n",
       "      <td>0.0</td>\n",
       "      <td>0.0</td>\n",
       "      <td>0.0</td>\n",
       "      <td>0.0</td>\n",
       "      <td>0.0</td>\n",
       "      <td>0.0</td>\n",
       "      <td>0.0</td>\n",
       "      <td>0.0</td>\n",
       "      <td>0.0</td>\n",
       "      <td>0.0</td>\n",
       "      <td>0.0</td>\n",
       "      <td>0.0</td>\n",
       "      <td>...</td>\n",
       "      <td>0.0</td>\n",
       "      <td>0.0</td>\n",
       "      <td>0.0</td>\n",
       "      <td>0.0</td>\n",
       "      <td>0.0</td>\n",
       "      <td>0.0</td>\n",
       "      <td>0.000000</td>\n",
       "      <td>0.0</td>\n",
       "      <td>0.0</td>\n",
       "      <td>0.0</td>\n",
       "      <td>0.000000</td>\n",
       "      <td>0.0</td>\n",
       "      <td>0.0</td>\n",
       "      <td>0.0</td>\n",
       "      <td>0.0</td>\n",
       "      <td>0.0</td>\n",
       "      <td>0.000000</td>\n",
       "      <td>0.0</td>\n",
       "      <td>0.0</td>\n",
       "      <td>0.0</td>\n",
       "      <td>0.0</td>\n",
       "      <td>0.0</td>\n",
       "      <td>0.0</td>\n",
       "      <td>0.0</td>\n",
       "      <td>0.0</td>\n",
       "      <td>0.0</td>\n",
       "      <td>0.0</td>\n",
       "      <td>0.0</td>\n",
       "      <td>0.0</td>\n",
       "      <td>0.0</td>\n",
       "      <td>0.0</td>\n",
       "      <td>0.0</td>\n",
       "      <td>0.0</td>\n",
       "      <td>0.0</td>\n",
       "      <td>0.0</td>\n",
       "      <td>0.0</td>\n",
       "      <td>0.0</td>\n",
       "      <td>0.0</td>\n",
       "      <td>0.0</td>\n",
       "      <td>0.0</td>\n",
       "    </tr>\n",
       "    <tr>\n",
       "      <th>899</th>\n",
       "      <td>0.0</td>\n",
       "      <td>0.0</td>\n",
       "      <td>0.0</td>\n",
       "      <td>0.0</td>\n",
       "      <td>0.0</td>\n",
       "      <td>0.0</td>\n",
       "      <td>0.0</td>\n",
       "      <td>0.0</td>\n",
       "      <td>0.0</td>\n",
       "      <td>0.0</td>\n",
       "      <td>0.0</td>\n",
       "      <td>0.0</td>\n",
       "      <td>0.0</td>\n",
       "      <td>0.0</td>\n",
       "      <td>0.0</td>\n",
       "      <td>0.0</td>\n",
       "      <td>0.00000</td>\n",
       "      <td>0.0</td>\n",
       "      <td>0.0</td>\n",
       "      <td>0.0</td>\n",
       "      <td>0.0</td>\n",
       "      <td>0.0</td>\n",
       "      <td>0.0</td>\n",
       "      <td>0.0</td>\n",
       "      <td>0.0</td>\n",
       "      <td>0.0</td>\n",
       "      <td>0.0</td>\n",
       "      <td>0.0</td>\n",
       "      <td>0.0</td>\n",
       "      <td>0.0</td>\n",
       "      <td>0.0</td>\n",
       "      <td>0.0</td>\n",
       "      <td>0.0</td>\n",
       "      <td>0.0</td>\n",
       "      <td>0.0</td>\n",
       "      <td>0.0</td>\n",
       "      <td>0.0</td>\n",
       "      <td>0.0</td>\n",
       "      <td>0.0</td>\n",
       "      <td>0.0</td>\n",
       "      <td>...</td>\n",
       "      <td>0.0</td>\n",
       "      <td>0.0</td>\n",
       "      <td>0.0</td>\n",
       "      <td>0.0</td>\n",
       "      <td>0.0</td>\n",
       "      <td>0.0</td>\n",
       "      <td>0.000000</td>\n",
       "      <td>0.0</td>\n",
       "      <td>0.0</td>\n",
       "      <td>0.0</td>\n",
       "      <td>0.000000</td>\n",
       "      <td>0.0</td>\n",
       "      <td>0.0</td>\n",
       "      <td>0.0</td>\n",
       "      <td>0.0</td>\n",
       "      <td>0.0</td>\n",
       "      <td>0.000000</td>\n",
       "      <td>0.0</td>\n",
       "      <td>0.0</td>\n",
       "      <td>0.0</td>\n",
       "      <td>0.0</td>\n",
       "      <td>0.0</td>\n",
       "      <td>0.0</td>\n",
       "      <td>0.0</td>\n",
       "      <td>0.0</td>\n",
       "      <td>0.0</td>\n",
       "      <td>0.0</td>\n",
       "      <td>0.0</td>\n",
       "      <td>0.0</td>\n",
       "      <td>0.0</td>\n",
       "      <td>0.0</td>\n",
       "      <td>0.0</td>\n",
       "      <td>0.0</td>\n",
       "      <td>0.0</td>\n",
       "      <td>0.0</td>\n",
       "      <td>0.0</td>\n",
       "      <td>0.0</td>\n",
       "      <td>0.0</td>\n",
       "      <td>0.0</td>\n",
       "      <td>0.0</td>\n",
       "    </tr>\n",
       "  </tbody>\n",
       "</table>\n",
       "<p>900 rows × 3417 columns</p>\n",
       "</div>"
      ],
      "text/plain": [
       "     002  011010   07  0rp  ...  zarazettirazr  zarazettirazz  zippermouth  zona\n",
       "0    0.0     0.0  0.0  0.0  ...            0.0            0.0          0.0   0.0\n",
       "1    0.0     0.0  0.0  0.0  ...            0.0            0.0          0.0   0.0\n",
       "2    0.0     0.0  0.0  0.0  ...            0.0            0.0          0.0   0.0\n",
       "3    0.0     0.0  0.0  0.0  ...            0.0            0.0          0.0   0.0\n",
       "4    0.0     0.0  0.0  0.0  ...            0.0            0.0          0.0   0.0\n",
       "..   ...     ...  ...  ...  ...            ...            ...          ...   ...\n",
       "895  0.0     0.0  0.0  0.0  ...            0.0            0.0          0.0   0.0\n",
       "896  0.0     0.0  0.0  0.0  ...            0.0            0.0          0.0   0.0\n",
       "897  0.0     0.0  0.0  0.0  ...            0.0            0.0          0.0   0.0\n",
       "898  0.0     0.0  0.0  0.0  ...            0.0            0.0          0.0   0.0\n",
       "899  0.0     0.0  0.0  0.0  ...            0.0            0.0          0.0   0.0\n",
       "\n",
       "[900 rows x 3417 columns]"
      ]
     },
     "execution_count": 41,
     "metadata": {
      "tags": []
     },
     "output_type": "execute_result"
    }
   ],
   "source": [
    "X2_sentence_df"
   ]
  },
  {
   "cell_type": "markdown",
   "metadata": {
    "id": "7wqMjav4PhP0"
   },
   "source": [
    "## 3. Please do exploration about POS-Tagging and NER, make your own summary"
   ]
  },
  {
   "cell_type": "markdown",
   "metadata": {
    "id": "c33kglC1PhP0"
   },
   "source": [
    "### 3.a Part of Speech - Tagging\n",
    "Proses untuk mengklasifikasikan atau mengelompokkan dan memberi label kata-kata  sesuai dengan kelas katanya (subjek, kata benda, kata kerja, dll) <br>\n",
    "Library nltk mempunyai label atau lebih dikenal dengan tagset tersendiri, salah satunya ada seperti ini"
   ]
  },
  {
   "cell_type": "code",
   "execution_count": null,
   "metadata": {
    "colab": {
     "base_uri": "https://localhost:8080/"
    },
    "id": "3xl9x-jubCIH",
    "outputId": "3e751d54-cbfb-4ab2-e53e-a796faa22da7"
   },
   "outputs": [
    {
     "name": "stdout",
     "output_type": "stream",
     "text": [
      "[nltk_data] Downloading package tagsets to /root/nltk_data...\n",
      "[nltk_data]   Unzipping help/tagsets.zip.\n",
      "$: dollar\n",
      "    $ -$ --$ A$ C$ HK$ M$ NZ$ S$ U.S.$ US$\n",
      "'': closing quotation mark\n",
      "    ' ''\n",
      "(: opening parenthesis\n",
      "    ( [ {\n",
      "): closing parenthesis\n",
      "    ) ] }\n",
      ",: comma\n",
      "    ,\n",
      "--: dash\n",
      "    --\n",
      ".: sentence terminator\n",
      "    . ! ?\n",
      ":: colon or ellipsis\n",
      "    : ; ...\n",
      "CC: conjunction, coordinating\n",
      "    & 'n and both but either et for less minus neither nor or plus so\n",
      "    therefore times v. versus vs. whether yet\n",
      "CD: numeral, cardinal\n",
      "    mid-1890 nine-thirty forty-two one-tenth ten million 0.5 one forty-\n",
      "    seven 1987 twenty '79 zero two 78-degrees eighty-four IX '60s .025\n",
      "    fifteen 271,124 dozen quintillion DM2,000 ...\n",
      "DT: determiner\n",
      "    all an another any both del each either every half la many much nary\n",
      "    neither no some such that the them these this those\n",
      "EX: existential there\n",
      "    there\n",
      "FW: foreign word\n",
      "    gemeinschaft hund ich jeux habeas Haementeria Herr K'ang-si vous\n",
      "    lutihaw alai je jour objets salutaris fille quibusdam pas trop Monte\n",
      "    terram fiche oui corporis ...\n",
      "IN: preposition or conjunction, subordinating\n",
      "    astride among uppon whether out inside pro despite on by throughout\n",
      "    below within for towards near behind atop around if like until below\n",
      "    next into if beside ...\n",
      "JJ: adjective or numeral, ordinal\n",
      "    third ill-mannered pre-war regrettable oiled calamitous first separable\n",
      "    ectoplasmic battery-powered participatory fourth still-to-be-named\n",
      "    multilingual multi-disciplinary ...\n",
      "JJR: adjective, comparative\n",
      "    bleaker braver breezier briefer brighter brisker broader bumper busier\n",
      "    calmer cheaper choosier cleaner clearer closer colder commoner costlier\n",
      "    cozier creamier crunchier cuter ...\n",
      "JJS: adjective, superlative\n",
      "    calmest cheapest choicest classiest cleanest clearest closest commonest\n",
      "    corniest costliest crassest creepiest crudest cutest darkest deadliest\n",
      "    dearest deepest densest dinkiest ...\n",
      "LS: list item marker\n",
      "    A A. B B. C C. D E F First G H I J K One SP-44001 SP-44002 SP-44005\n",
      "    SP-44007 Second Third Three Two * a b c d first five four one six three\n",
      "    two\n",
      "MD: modal auxiliary\n",
      "    can cannot could couldn't dare may might must need ought shall should\n",
      "    shouldn't will would\n",
      "NN: noun, common, singular or mass\n",
      "    common-carrier cabbage knuckle-duster Casino afghan shed thermostat\n",
      "    investment slide humour falloff slick wind hyena override subhumanity\n",
      "    machinist ...\n",
      "NNP: noun, proper, singular\n",
      "    Motown Venneboerger Czestochwa Ranzer Conchita Trumplane Christos\n",
      "    Oceanside Escobar Kreisler Sawyer Cougar Yvette Ervin ODI Darryl CTCA\n",
      "    Shannon A.K.C. Meltex Liverpool ...\n",
      "NNPS: noun, proper, plural\n",
      "    Americans Americas Amharas Amityvilles Amusements Anarcho-Syndicalists\n",
      "    Andalusians Andes Andruses Angels Animals Anthony Antilles Antiques\n",
      "    Apache Apaches Apocrypha ...\n",
      "NNS: noun, common, plural\n",
      "    undergraduates scotches bric-a-brac products bodyguards facets coasts\n",
      "    divestitures storehouses designs clubs fragrances averages\n",
      "    subjectivists apprehensions muses factory-jobs ...\n",
      "PDT: pre-determiner\n",
      "    all both half many quite such sure this\n",
      "POS: genitive marker\n",
      "    ' 's\n",
      "PRP: pronoun, personal\n",
      "    hers herself him himself hisself it itself me myself one oneself ours\n",
      "    ourselves ownself self she thee theirs them themselves they thou thy us\n",
      "PRP$: pronoun, possessive\n",
      "    her his mine my our ours their thy your\n",
      "RB: adverb\n",
      "    occasionally unabatingly maddeningly adventurously professedly\n",
      "    stirringly prominently technologically magisterially predominately\n",
      "    swiftly fiscally pitilessly ...\n",
      "RBR: adverb, comparative\n",
      "    further gloomier grander graver greater grimmer harder harsher\n",
      "    healthier heavier higher however larger later leaner lengthier less-\n",
      "    perfectly lesser lonelier longer louder lower more ...\n",
      "RBS: adverb, superlative\n",
      "    best biggest bluntest earliest farthest first furthest hardest\n",
      "    heartiest highest largest least less most nearest second tightest worst\n",
      "RP: particle\n",
      "    aboard about across along apart around aside at away back before behind\n",
      "    by crop down ever fast for forth from go high i.e. in into just later\n",
      "    low more off on open out over per pie raising start teeth that through\n",
      "    under unto up up-pp upon whole with you\n",
      "SYM: symbol\n",
      "    % & ' '' ''. ) ). * + ,. < = > @ A[fj] U.S U.S.S.R * ** ***\n",
      "TO: \"to\" as preposition or infinitive marker\n",
      "    to\n",
      "UH: interjection\n",
      "    Goodbye Goody Gosh Wow Jeepers Jee-sus Hubba Hey Kee-reist Oops amen\n",
      "    huh howdy uh dammit whammo shucks heck anyways whodunnit honey golly\n",
      "    man baby diddle hush sonuvabitch ...\n",
      "VB: verb, base form\n",
      "    ask assemble assess assign assume atone attention avoid bake balkanize\n",
      "    bank begin behold believe bend benefit bevel beware bless boil bomb\n",
      "    boost brace break bring broil brush build ...\n",
      "VBD: verb, past tense\n",
      "    dipped pleaded swiped regummed soaked tidied convened halted registered\n",
      "    cushioned exacted snubbed strode aimed adopted belied figgered\n",
      "    speculated wore appreciated contemplated ...\n",
      "VBG: verb, present participle or gerund\n",
      "    telegraphing stirring focusing angering judging stalling lactating\n",
      "    hankerin' alleging veering capping approaching traveling besieging\n",
      "    encrypting interrupting erasing wincing ...\n",
      "VBN: verb, past participle\n",
      "    multihulled dilapidated aerosolized chaired languished panelized used\n",
      "    experimented flourished imitated reunifed factored condensed sheared\n",
      "    unsettled primed dubbed desired ...\n",
      "VBP: verb, present tense, not 3rd person singular\n",
      "    predominate wrap resort sue twist spill cure lengthen brush terminate\n",
      "    appear tend stray glisten obtain comprise detest tease attract\n",
      "    emphasize mold postpone sever return wag ...\n",
      "VBZ: verb, present tense, 3rd person singular\n",
      "    bases reconstructs marks mixes displeases seals carps weaves snatches\n",
      "    slumps stretches authorizes smolders pictures emerges stockpiles\n",
      "    seduces fizzes uses bolsters slaps speaks pleads ...\n",
      "WDT: WH-determiner\n",
      "    that what whatever which whichever\n",
      "WP: WH-pronoun\n",
      "    that what whatever whatsoever which who whom whosoever\n",
      "WP$: WH-pronoun, possessive\n",
      "    whose\n",
      "WRB: Wh-adverb\n",
      "    how however whence whenever where whereby whereever wherein whereof why\n",
      "``: opening quotation mark\n",
      "    ` ``\n"
     ]
    }
   ],
   "source": [
    "nltk.download('tagsets')\n",
    "nltk.help.upenn_tagset()"
   ]
  },
  {
   "cell_type": "markdown",
   "metadata": {
    "id": "IOlq1JyCY6YH"
   },
   "source": [
    "Selain itu, terdapat juga tagset yang universal dimana tagset ini biasa kita lihat ![tagset universal.png](data:image/png;base64,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)"
   ]
  },
  {
   "cell_type": "markdown",
   "metadata": {
    "id": "CqhLuBu8ZvTU"
   },
   "source": [
    "Contoh Penggunaan POS-Tagging dalam kalimat bahasa inggris"
   ]
  },
  {
   "cell_type": "code",
   "execution_count": 2,
   "metadata": {
    "colab": {
     "base_uri": "https://localhost:8080/"
    },
    "id": "jApBsLBWZ5HK",
    "outputId": "08badbe8-1179-4f49-e2e9-4a0ddc9f0392"
   },
   "outputs": [
    {
     "name": "stderr",
     "output_type": "stream",
     "text": [
      "[nltk_data] Downloading package punkt to\n",
      "[nltk_data]     C:\\Users\\User\\AppData\\Roaming\\nltk_data...\n",
      "[nltk_data]   Unzipping tokenizers\\punkt.zip.\n",
      "[nltk_data] Downloading package averaged_perceptron_tagger to\n",
      "[nltk_data]     C:\\Users\\User\\AppData\\Roaming\\nltk_data...\n",
      "[nltk_data] Error downloading 'averaged_perceptron_tagger' from\n",
      "[nltk_data]     <https://raw.githubusercontent.com/nltk/nltk_data/gh-p\n",
      "[nltk_data]     ages/packages/taggers/averaged_perceptron_tagger.zip>:\n",
      "[nltk_data]     [WinError 10053] An established connection was aborted\n",
      "[nltk_data]     by the software in your host machine\n"
     ]
    },
    {
     "data": {
      "text/plain": [
       "False"
      ]
     },
     "execution_count": 2,
     "metadata": {},
     "output_type": "execute_result"
    }
   ],
   "source": [
    "import nltk\n",
    "from nltk import pos_tag\n",
    "nltk.download('punkt')\n",
    "nltk.download('averaged_perceptron_tagger')"
   ]
  },
  {
   "cell_type": "code",
   "execution_count": null,
   "metadata": {
    "colab": {
     "base_uri": "https://localhost:8080/"
    },
    "id": "rrM_06OOPhP1",
    "outputId": "ebc2415e-983f-4df9-c0ba-cdfdd7871192"
   },
   "outputs": [
    {
     "name": "stdout",
     "output_type": "stream",
     "text": [
      "[('I', 'PRP'), ('am', 'VBP'), ('currently', 'RB'), ('learning', 'VBG'), ('NLP', 'NNP'), ('in', 'IN'), ('English', 'NNP'), (',', ','), ('but', 'CC'), ('if', 'IN'), ('possible', 'JJ'), ('I', 'PRP'), ('want', 'VBP'), ('to', 'TO'), ('know', 'VB'), ('NLP', 'NNP'), ('in', 'IN'), ('Indonesian', 'JJ'), ('language', 'NN'), ('too', 'RB')]\n"
     ]
    }
   ],
   "source": [
    "T = 'I am currently learning NLP in English, but if possible I want to know NLP in Indonesian language too'\n",
    "\n",
    "nltk_tokens = nltk.word_tokenize(T)\n",
    "print(nltk.pos_tag(nltk_tokens))"
   ]
  },
  {
   "cell_type": "code",
   "execution_count": null,
   "metadata": {},
   "outputs": [],
   "source": []
  },
  {
   "cell_type": "markdown",
   "metadata": {
    "id": "Uu-_OWLCc1HJ"
   },
   "source": [
    "Untuk keperluan pembelajaran, akan digunakan POS-tagging dengan library nltk yang berbahasa inggris pada data set twitter berbahasa Indonesia yang memungkinkan hasil tag kurang tepat"
   ]
  },
  {
   "cell_type": "code",
   "execution_count": null,
   "metadata": {
    "colab": {
     "base_uri": "https://localhost:8080/"
    },
    "id": "f5mdllYHPhP1",
    "outputId": "7a5fb267-2537-4257-ad29-1739db02430b"
   },
   "outputs": [
    {
     "data": {
      "text/plain": [
       "0    [(akun, NN), (kloning, VBG), (seolah2, JJ), (p...\n",
       "1    [(agussilvy, NN), (bicara, NN), (kasihan, NN),...\n",
       "2    [(sih, NN), (gak, NN), (nunggu, JJ), (hasil, N...\n",
       "3    [(kasian, JJ), (kasian, JJ), (peluru, NN), (1m...\n",
       "4    [(maaf, NN), (pendukung, NN), (agussilvyhayo, ...\n",
       "Name: StopwordsIndonesianSastrawi, dtype: object"
      ]
     },
     "execution_count": 45,
     "metadata": {
      "tags": []
     },
     "output_type": "execute_result"
    }
   ],
   "source": [
    "postagging = df['StopwordsIndonesianSastrawi'].str.split().map(pos_tag)\n",
    "postagging.head()"
   ]
  },
  {
   "cell_type": "code",
   "execution_count": null,
   "metadata": {
    "colab": {
     "base_uri": "https://localhost:8080/"
    },
    "id": "6tdeZcCAPhP2",
    "outputId": "ba995524-7b0b-4545-e47c-1126a25fc527"
   },
   "outputs": [
    {
     "data": {
      "text/plain": [
       "0    {'NN': 7, 'VBG': 1, 'JJ': 1, 'IN': 1, 'NNS': 1...\n",
       "1                                  {'NN': 6, 'NNP': 1}\n",
       "2                          {'NN': 7, 'JJ': 1, 'FW': 6}\n",
       "3                {'JJ': 2, 'NN': 7, 'CD': 1, 'VBP': 1}\n",
       "4                         {'NN': 7, 'VBD': 1, 'CD': 1}\n",
       "Name: StopwordsIndonesianSastrawi, dtype: object"
      ]
     },
     "execution_count": 46,
     "metadata": {
      "tags": []
     },
     "output_type": "execute_result"
    }
   ],
   "source": [
    "def count_tags(title_with_tags):\n",
    "    tag_count = {}\n",
    "    for word, tag in title_with_tags:\n",
    "        if tag in tag_count:\n",
    "            tag_count[tag] += 1\n",
    "        else:\n",
    "            tag_count[tag] = 1\n",
    "    return(tag_count)\n",
    "postagging.map(count_tags).head()"
   ]
  },
  {
   "cell_type": "code",
   "execution_count": null,
   "metadata": {
    "colab": {
     "base_uri": "https://localhost:8080/",
     "height": 204
    },
    "id": "3DA0vujSPhP2",
    "outputId": "d64cb5ab-cae5-4919-abae-1ffaaebe7996"
   },
   "outputs": [
    {
     "data": {
      "text/html": [
       "<div>\n",
       "<style scoped>\n",
       "    .dataframe tbody tr th:only-of-type {\n",
       "        vertical-align: middle;\n",
       "    }\n",
       "\n",
       "    .dataframe tbody tr th {\n",
       "        vertical-align: top;\n",
       "    }\n",
       "\n",
       "    .dataframe thead th {\n",
       "        text-align: right;\n",
       "    }\n",
       "</style>\n",
       "<table border=\"1\" class=\"dataframe\">\n",
       "  <thead>\n",
       "    <tr style=\"text-align: right;\">\n",
       "      <th></th>\n",
       "      <th>StopwordsIndonesianSastrawi</th>\n",
       "      <th>tag_counts</th>\n",
       "    </tr>\n",
       "  </thead>\n",
       "  <tbody>\n",
       "    <tr>\n",
       "      <th>0</th>\n",
       "      <td>[(akun, NN), (kloning, VBG), (seolah2, JJ), (p...</td>\n",
       "      <td>{'NN': 7, 'VBG': 1, 'JJ': 1, 'IN': 1, 'NNS': 1...</td>\n",
       "    </tr>\n",
       "    <tr>\n",
       "      <th>1</th>\n",
       "      <td>[(agussilvy, NN), (bicara, NN), (kasihan, NN),...</td>\n",
       "      <td>{'NN': 6, 'NNP': 1}</td>\n",
       "    </tr>\n",
       "    <tr>\n",
       "      <th>2</th>\n",
       "      <td>[(sih, NN), (gak, NN), (nunggu, JJ), (hasil, N...</td>\n",
       "      <td>{'NN': 7, 'JJ': 1, 'FW': 6}</td>\n",
       "    </tr>\n",
       "    <tr>\n",
       "      <th>3</th>\n",
       "      <td>[(kasian, JJ), (kasian, JJ), (peluru, NN), (1m...</td>\n",
       "      <td>{'JJ': 2, 'NN': 7, 'CD': 1, 'VBP': 1}</td>\n",
       "    </tr>\n",
       "    <tr>\n",
       "      <th>4</th>\n",
       "      <td>[(maaf, NN), (pendukung, NN), (agussilvyhayo, ...</td>\n",
       "      <td>{'NN': 7, 'VBD': 1, 'CD': 1}</td>\n",
       "    </tr>\n",
       "  </tbody>\n",
       "</table>\n",
       "</div>"
      ],
      "text/plain": [
       "                         StopwordsIndonesianSastrawi                                         tag_counts\n",
       "0  [(akun, NN), (kloning, VBG), (seolah2, JJ), (p...  {'NN': 7, 'VBG': 1, 'JJ': 1, 'IN': 1, 'NNS': 1...\n",
       "1  [(agussilvy, NN), (bicara, NN), (kasihan, NN),...                                {'NN': 6, 'NNP': 1}\n",
       "2  [(sih, NN), (gak, NN), (nunggu, JJ), (hasil, N...                        {'NN': 7, 'JJ': 1, 'FW': 6}\n",
       "3  [(kasian, JJ), (kasian, JJ), (peluru, NN), (1m...              {'JJ': 2, 'NN': 7, 'CD': 1, 'VBP': 1}\n",
       "4  [(maaf, NN), (pendukung, NN), (agussilvyhayo, ...                       {'NN': 7, 'VBD': 1, 'CD': 1}"
      ]
     },
     "execution_count": 47,
     "metadata": {
      "tags": []
     },
     "output_type": "execute_result"
    }
   ],
   "source": [
    "postagging_df = pd.DataFrame(postagging)\n",
    "postagging_df['tag_counts'] = postagging_df.head()['StopwordsIndonesianSastrawi'].map(count_tags)\n",
    "postagging_df.head()"
   ]
  },
  {
   "cell_type": "markdown",
   "metadata": {
    "id": "NGB7vl2bPhP3"
   },
   "source": [
    "### 3.b Named Entity Recognition (NER)\n",
    "NER adalah teknik NLP to mengidentifikasi entitas dari teks dalam kelompok/tipe tertentu, seperti orang, lokasi, organisasi, dll![NE type.png](data:image/png;base64,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)"
   ]
  },
  {
   "cell_type": "code",
   "execution_count": null,
   "metadata": {
    "colab": {
     "base_uri": "https://localhost:8080/"
    },
    "id": "HoinyZILIuIc",
    "outputId": "dc90c58c-97a7-4251-c26e-a72a25b0b1c1"
   },
   "outputs": [
    {
     "name": "stdout",
     "output_type": "stream",
     "text": [
      "[nltk_data] Downloading package maxent_ne_chunker to\n",
      "[nltk_data]     /root/nltk_data...\n",
      "[nltk_data]   Package maxent_ne_chunker is already up-to-date!\n",
      "[nltk_data] Downloading package words to /root/nltk_data...\n",
      "[nltk_data]   Unzipping corpora/words.zip.\n"
     ]
    },
    {
     "data": {
      "text/plain": [
       "True"
      ]
     },
     "execution_count": 70,
     "metadata": {
      "tags": []
     },
     "output_type": "execute_result"
    }
   ],
   "source": [
    "nltk.download('maxent_ne_chunker')\n",
    "nltk.download('words')"
   ]
  },
  {
   "cell_type": "markdown",
   "metadata": {
    "id": "RSRLhwS4Q-0s"
   },
   "source": [
    "Berikut contoh NER jika diterapkan dalam sebuah kalimat bahasa inggris dengan menggunakan library nltk"
   ]
  },
  {
   "cell_type": "code",
   "execution_count": null,
   "metadata": {
    "colab": {
     "base_uri": "https://localhost:8080/"
    },
    "id": "55dsZcSMPhP3",
    "outputId": "7dd70fb2-72b3-49c3-f35c-2045f8258dd7"
   },
   "outputs": [
    {
     "name": "stdout",
     "output_type": "stream",
     "text": [
      "GPE WASHINGTON\n",
      "GPE New York\n",
      "PERSON Loretta E. Lynch\n",
      "GPE Brooklyn\n"
     ]
    }
   ],
   "source": [
    "sentence = \"WASHINGTON -- In the wake of a string of abuses by New York police officers in the 1990s, Loretta E. Lynch, the top federal prosecutor in Brooklyn, spoke forcefully about the pain of a broken trust that African-Americans felt and said the responsibility for repairing generations of miscommunication and mistrust fell to law enforcement.\"\n",
    "\n",
    "# Step Three: Tokenise, find parts of speech and chunk words \n",
    "\n",
    "for sent in nltk.sent_tokenize(sentence):\n",
    "  for chunk in nltk.ne_chunk(nltk.pos_tag(nltk.word_tokenize(sent))):\n",
    "     if hasattr(chunk, 'label'):\n",
    "        print(chunk.label(), ' '.join(c[0] for c in chunk))"
   ]
  }
 ],
 "metadata": {
  "colab": {
   "collapsed_sections": [],
   "name": "practice_Case_NLP_DS_1_Kurnia_Tambahan.ipynb",
   "provenance": []
  },
  "kernelspec": {
   "display_name": "Python 3",
   "language": "python",
   "name": "python3"
  },
  "language_info": {
   "codemirror_mode": {
    "name": "ipython",
    "version": 3
   },
   "file_extension": ".py",
   "mimetype": "text/x-python",
   "name": "python",
   "nbconvert_exporter": "python",
   "pygments_lexer": "ipython3",
   "version": "3.8.5"
  },
  "toc": {
   "base_numbering": 1,
   "nav_menu": {},
   "number_sections": true,
   "sideBar": true,
   "skip_h1_title": false,
   "title_cell": "Table of Contents",
   "title_sidebar": "Contents",
   "toc_cell": false,
   "toc_position": {},
   "toc_section_display": true,
   "toc_window_display": false
  }
 },
 "nbformat": 4,
 "nbformat_minor": 5
}
